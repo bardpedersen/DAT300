{
 "cells": [
  {
   "attachments": {},
   "cell_type": "markdown",
   "metadata": {},
   "source": [
    "# Compulsory Assignment 1: Dense neural networks - Implementing an ANN with Keras\n",
    "\n",
    "Please fill out the the group name, number, members and optionally the group name below. \n",
    "\n",
    "**Group number**: \\\n",
    "**Group member 1**: \\\n",
    "**Group member 2**: \\\n",
    "**Group member 3**: \\\n",
    "**Group name (optional)**: \n",
    "\n",
    "# Assignment submission\n",
    "\n",
    "To complete this assignment, answer the all the questions in this notebook and write the code required to implement different models. **Submit the assignment by handing in this notebook as both an .ipynb file and a .pdf file**.\n",
    "\n",
    "Here are some do’s and don’ts for the submission:\n",
    "\n",
    "- Read questions thoroughly before answering.\n",
    "- Make sure to answer all questions.\n",
    "- Ensure all code cells are run.\n",
    "- Label all axes in plots.\n",
    "- Ensure all figures are visible in the PDF.\n",
    "\n",
    "# Introduction \n",
    "\n",
    "In this assignment we will continue with the task of classifying handwritten digits from the MNIST dataset, used in the voluntary assignment where we designed a neural network from scratch. But, today you will implement the network using the Keras API of the TensorFlow library. TensorFlow and PyTorch are both free open-source software libraries intended to simplify multiplication of tensors, but are mostly used for the design and implementation of deep neural networks. Both libraries simplify the implementation of neural networks, and allow for faster training of networks by utlizing hardware acceleration with Graphical Processing Units (GPUs) or Tensor Processing Units (TPUs)\n",
    "\n",
    "TensorFlow was developed by Google Brain for internal use in Google and was initially released under Apache 2.0 License in 2015 [1](https://en.wikipedia.org/wiki/TensorFlow). Keras was initially released as separate software library, developed by François Chollet, to simplify the Python interface for design of artificial neural networks. Up until version 2.3 Keras supported multiple backend libraries including TensorFlow, Microsoft Cognitive Toolkit, Theano, and PlaidML [2](https://en.wikipedia.org/wiki/Keras). When TensorFlow 2.0 was released in 2019, keras was included as a TensorFlow specific API that is accessible by:\n",
    "\n",
    "```python\n",
    "import tensorflow.keras as ks\n",
    "```\n",
    "PyTorch was originally developed by Meta AI (formerly known as Facebook) in 2016, but is now under umbrella of the Linux foundation, and is open-source under the BSD license [3](https://en.wikipedia.org/wiki/PyTorch). While TensorFlow was the most popular framework for a long time, PyTorch has been gaining more and more users in the last five years and is now more used in industry and is becoming more popular in research as well. \n",
    "\n",
    "The lectures of DAT300 will be taught using the Keras API in TensorFlow, and we recommend you to stick with Keras and TensorFlow for this course as it is easier for beginners to get started with. \n",
    "\n",
    "## Assignment structure\n",
    "\n",
    "1. Part 1: Import, preprocess, and visualize the data.\n",
    "2. Part 2: Use the Keras API to implement a Dense Neural Network (NN) that resembles the model given in the voluntary assignment.\n",
    "3. Part 3: Design your own Dense Neural Network (NN) architecture for classifying MNIST in Keras.\n",
    "4. Part 4: Train a Machine Learning classifier that you learned about in DAT200.\n",
    "5. Part 5: Compare and discuss the results.\n",
    "\n",
    "## Note on the voluntary assignment\n",
    "\n",
    "Some of the questions in this task will ask you to compare the results from training this network to the results you had in the voluntary assignment with regard to training algorithm used and the time it took to train the network implemented with Numpy and with TensorFlow/PyTorch. If you did not do the voluntary assignment yourself, have a look at the solutions that should be posted and run through the solutions-notebook to get the results you need for a comparison."
   ]
  },
  {
   "cell_type": "markdown",
   "metadata": {},
   "source": [
    "\n",
    "## Library imports"
   ]
  },
  {
   "cell_type": "code",
   "execution_count": null,
   "metadata": {},
   "outputs": [],
   "source": [
    "import time\n",
    "from tqdm import tqdm # Cool progress bar\n",
    "\n",
    "import numpy as np\n",
    "import pandas as pd\n",
    "import tensorflow.keras as ks\n",
    "import tensorflow as tf\n",
    "\n",
    "import matplotlib.pyplot as plt\n",
    "import seaborn as sns\n",
    "\n",
    "from utilities import *\n",
    "\n",
    "SEED = 458\n",
    "RNG = np.random.default_rng(SEED) # Random number generator"
   ]
  },
  {
   "attachments": {},
   "cell_type": "markdown",
   "metadata": {},
   "source": [
    "# Task 1: Importing, preprocess and visualizing the data\n",
    "To import the data of the MNIST dataset for this assignment\n",
    "* Copy the data/ folder from the folder where you kept the last assignment, and run the load_data() function from the `utilities.py` file.\n",
    "* Just download the data again by re-running the load_data() function from the `utilities.py` file.\n",
    "\n",
    "In this assignment you yourselves will be responsible for the data-preprocessing. Use the cells below for preprocessing and visualization, and optionally some exploration of the dataset if you feel inclined. \n",
    "\n",
    "## Importing data"
   ]
  },
  {
   "cell_type": "code",
   "execution_count": null,
   "metadata": {},
   "outputs": [],
   "source": [
    "datasets = load_mnist(verbose=0)\n",
    "X_train, y_train = datasets['X_train'], datasets['y_train']\n",
    "X_val,   y_val   = datasets['X_val'],   datasets['y_val']\n",
    "X_test,  y_test  = datasets['X_test'],  datasets['y_test']\n",
    "\n",
    "X_train = np.concatenate([X_train, X_val], axis=0)\n",
    "y_train = np.concatenate([y_train, y_val], axis=0).astype('int32')\n",
    "\n",
    "del datasets, X_val, y_val # Good to reduce uneccesary RAM usage"
   ]
  },
  {
   "attachments": {},
   "cell_type": "markdown",
   "metadata": {},
   "source": [
    "## Task 1.1 Preprocessing\n",
    "Preprocess the data in whatever way you find sensible. Remember to comment on what you do."
   ]
  },
  {
   "cell_type": "code",
   "execution_count": null,
   "metadata": {},
   "outputs": [],
   "source": []
  },
  {
   "attachments": {},
   "cell_type": "markdown",
   "metadata": {},
   "source": [
    "## Task 1.2 Visualization\n",
    "Visualize the data in whatever manner you find helpful/sensible and briefly comment on the plots."
   ]
  },
  {
   "cell_type": "code",
   "execution_count": null,
   "metadata": {},
   "outputs": [],
   "source": []
  },
  {
   "attachments": {},
   "cell_type": "markdown",
   "metadata": {},
   "source": [
    "# Task 2: TensorFlow vs. Numpy\n",
    "In this task you will redesign the network you implemented in Numpy (from the voluntary assignment) using TensorFlow, and then compare the two implementations.\n",
    "## Task 2.1: Implement the F1-score\n",
    "In the cell below, implement or import a function for the F1-score metric."
   ]
  },
  {
   "cell_type": "code",
   "execution_count": null,
   "metadata": {},
   "outputs": [],
   "source": []
  },
  {
   "cell_type": "markdown",
   "metadata": {},
   "source": [
    "## Task 2.2: Implement the network from the voluntary assignment\n",
    "Implement a network with the following architecture:\n",
    "* Input layer: (28, 28)\n",
    "* Hidden layer: 30 units, sigmoid activation\n",
    "* Output layer: 10 units, sigmoid activation\n",
    "\n",
    "Compile the model using:\n",
    "* The `'MSE'` loss function\n",
    "* The `SGD` optimizer with `learning_rate=0.25`\n",
    "* both `'accuracy'` and the implementation of the **F1-score** from Task 2.1 as metrics\n",
    "\n",
    "Train the model using:\n",
    "* batch size of 10 images\n",
    "* 5 epochs\n",
    "* A validation split of 1/6"
   ]
  },
  {
   "attachments": {},
   "cell_type": "markdown",
   "metadata": {},
   "source": [
    "Implement the model in the code cell(s) below."
   ]
  },
  {
   "cell_type": "code",
   "execution_count": null,
   "metadata": {},
   "outputs": [],
   "source": []
  },
  {
   "cell_type": "markdown",
   "metadata": {},
   "source": [
    "## Task 2.3: Train the network and plot the training history\n",
    "Train the model and plot the training history in the code cell(s) below. Use the same method for plotting the training process as in the voluntary assignment. Feel free to use the function `plot_training_history()` from `utilities.py`"
   ]
  },
  {
   "cell_type": "code",
   "execution_count": null,
   "metadata": {},
   "outputs": [],
   "source": []
  },
  {
   "attachments": {},
   "cell_type": "markdown",
   "metadata": {},
   "source": [
    "## Task 2.4: Compare the results from the TensorFlow implementation with the Numpy implementation\n",
    "**Question 2.4.1**: How long did it take to train the TensorFlow implementation of the network on the *entire* dataset for five epochs compared to the time it took to train the Numpy implementation?\n",
    "\n",
    "**Question 2.4.2**: What is the biggest (defining) difference in how the TensorFlow implementation **was trained** compared to the Numpy implementation?\n",
    "\n",
    "**Question 2.4.3**: Were there any significant differences in the ease of implementation and the amount of code needed for the TensorFlow and Numpy implementations?"
   ]
  },
  {
   "cell_type": "markdown",
   "metadata": {},
   "source": [
    "**Answer 2.4.1**:\n",
    "\n",
    "**Answer 2.4.2**:\n",
    "\n",
    "**Answer 2.4.3**:"
   ]
  },
  {
   "attachments": {},
   "cell_type": "markdown",
   "metadata": {},
   "source": [
    "# Task 3: Design your own ANN architecture\n",
    "As you probably noticed in the last task, the performance of the simple network with a single hidden layer and 30 hidden units does not perform particularily well. In this task you are free to design the network architecture for the MNIST handwritten digit recognition challenge with a couple of stipulations:\n",
    "* use **only Dense or fully connected layers**,\n",
    "* use both **accuracy and the F1-score** as performance metrics. \n",
    "\n",
    "Otherwise, you are free to use whatever loss-function, optimizer and activation functions you want and train it for as many epochs you want."
   ]
  },
  {
   "attachments": {},
   "cell_type": "markdown",
   "metadata": {},
   "source": [
    "## Task 3.1: Implement your own network architecture\n",
    "Design your network below:\n",
    "\n",
    "(Feel free to add as many code and markdown cells as you want)"
   ]
  },
  {
   "cell_type": "code",
   "execution_count": null,
   "metadata": {},
   "outputs": [],
   "source": []
  },
  {
   "cell_type": "markdown",
   "metadata": {},
   "source": [
    "## Task 3.2: Train your network and visualize the training history\n",
    "Train the model and plot the training history in the code cell(s) below. Use the same method for plotting the training process as in the voluntary assignment. Feel free to use the function `plot_training_history()` from `utilities.py`"
   ]
  },
  {
   "cell_type": "code",
   "execution_count": null,
   "metadata": {},
   "outputs": [],
   "source": []
  },
  {
   "cell_type": "markdown",
   "metadata": {},
   "source": [
    "## Task 3.3: Discuss the results\n",
    "**Question 3.3.1**: Compare the performance of your new model with the model from Task 2. Did the new model achieve higher accuracy and F1-score? What could be the reasons for that?\n",
    "\n",
    "**Question 3.3.2**: Did overfitting occur? If so, after how many epochs? Does overfitting typically increase or decrease with the increasing model complexity?\n",
    "\n",
    "**Question 3.3.3**: How do accuracy and F1-Score values compare (are they similar or very different from each other)? What does it tell you about the MNIST dataset and which one of these metrics is more reliable in this case?\n",
    "\n",
    "**Question 3.3.4**: Explain **very briefly** how each of the following model hyperparameters can impact the model's performance:\n",
    "- Number of layers\n",
    "- Number of neurons in a layer\n",
    "- Activation functions\n",
    "- Learning rate.\n",
    "- Regularization techniques (such as L2 regularization)."
   ]
  },
  {
   "cell_type": "markdown",
   "metadata": {},
   "source": [
    "**Answer 3.3.1**:\n",
    "\n",
    "**Answer 3.3.2**:\n",
    "\n",
    "**Answer 3.3.3**:\n",
    "\n",
    "**Answer 3.3.4**:"
   ]
  },
  {
   "attachments": {},
   "cell_type": "markdown",
   "metadata": {},
   "source": [
    "# Task 4: Design and train a _classical_ machine learning classifier\n",
    "Pick your **favourite** machine learning classifer that you learned about in DAT200 and train it for the MNIST handwritten digits recognition problem. (Hint: use the scikit-learn library). Remember to use **accuracy and the F1-score** as performance metrics."
   ]
  },
  {
   "cell_type": "code",
   "execution_count": null,
   "metadata": {},
   "outputs": [],
   "source": []
  },
  {
   "attachments": {},
   "cell_type": "markdown",
   "metadata": {},
   "source": [
    "# Task 5: Compare and discuss\n",
    "Evaluate the four models you have implemented in task 2, 3 and 4 on the test dataset and compare them based on\n",
    "* Accuracies and F1-scores they attain\n",
    "* Time it takes to train them\n",
    "\n",
    "Did you experience any trouble when training models in tasks 2-4?"
   ]
  },
  {
   "cell_type": "code",
   "execution_count": null,
   "metadata": {},
   "outputs": [],
   "source": []
  },
  {
   "attachments": {},
   "cell_type": "markdown",
   "metadata": {},
   "source": [
    "**Task 5 discussion Here:**\n"
   ]
  },
  {
   "cell_type": "markdown",
   "metadata": {},
   "source": []
  }
 ],
 "metadata": {
  "kernelspec": {
   "display_name": "u_net",
   "language": "python",
   "name": "python3"
  },
  "language_info": {
   "codemirror_mode": {
    "name": "ipython",
    "version": 3
   },
   "file_extension": ".py",
   "mimetype": "text/x-python",
   "name": "python",
   "nbconvert_exporter": "python",
   "pygments_lexer": "ipython3",
   "version": "3.9.6"
  },
  "orig_nbformat": 4
 },
 "nbformat": 4,
 "nbformat_minor": 2
}
