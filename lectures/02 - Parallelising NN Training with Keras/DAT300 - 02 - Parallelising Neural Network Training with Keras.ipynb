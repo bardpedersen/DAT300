{
 "cells": [
  {
   "cell_type": "markdown",
   "metadata": {
    "nbpresent": {
     "id": "8b0d1366-6552-473d-9e29-2a9b1f283b8e"
    },
    "slideshow": {
     "slide_type": "slide"
    }
   },
   "source": [
    "# Parallelising Neural Network Training with Keras"
   ]
  },
  {
   "cell_type": "markdown",
   "metadata": {
    "nbpresent": {
     "id": "ae7b2481-86af-4893-9753-02475b283430"
    }
   },
   "source": [
    "<img src=\"./images/keras_tensorflow.jpg\" width=\"350\" />"
   ]
  },
  {
   "cell_type": "markdown",
   "metadata": {
    "nbpresent": {
     "id": "ace66a88-c671-483a-b49c-346b26ac7601"
    }
   },
   "source": [
    "**Note**: This notebook is adapted from chapter 13 in *Python Machine Learning* book, using Keras instead of TensorFlow. This notebook contains also (many) elements of book [*Deep Learning with Python*](https://www.manning.com/books/deep-learning-with-python), chapter 3 and 4. The Keras code is stored [here](https://github.com/fchollet/deep-learning-with-python-notebooks)."
   ]
  },
  {
   "cell_type": "markdown",
   "metadata": {
    "slideshow": {
     "slide_type": "slide"
    }
   },
   "source": [
    "## TensorFlow"
   ]
  },
  {
   "cell_type": "markdown",
   "metadata": {},
   "source": [
    "* TensorFlow is a Python-based, free, **open-source machine learning platform**, developed primarily by **Google**\n",
    "* Much like NumPy, the primary purpose of TensorFlow is to **enable engineers and researchers** to manipulate **mathematical expressions** over **numerical tensors**"
   ]
  },
  {
   "cell_type": "markdown",
   "metadata": {
    "slideshow": {
     "slide_type": "slide"
    }
   },
   "source": [
    "TensorFlow goes **far beyond** the scope of NumPy in the following ways\n",
    "* It can **automatically compute** the gradient of any differentiable expression, making it highly suitable for machine learning\n",
    "* It can run not only on **CPU**, but also on **GPUs** and **TPUs**, highly-parallel hardware accelerators\n",
    "* Computation defined in TensorFlow can be **easily distributed across many machines**\n",
    "* TensorFlow programs can be **exported to other runtimes**, such as \n",
    "    * C++, JavaScript (for browser-based applications), or \n",
    "    * TFLite (for applications running on mobile devices or embedded devices), etc. \n",
    "* This makes TensorFlow applications **easy to deploy** in practical settings."
   ]
  },
  {
   "cell_type": "markdown",
   "metadata": {
    "nbpresent": {
     "id": "91436083-c317-4bd4-ac12-e280a2298e95"
    },
    "slideshow": {
     "slide_type": "slide"
    }
   },
   "source": [
    "## Keras"
   ]
  },
  {
   "cell_type": "markdown",
   "metadata": {},
   "source": [
    "* Keras is a deep-learning API for Python, built **on top of** TensorFlow\n",
    "* Provides a **convenient** way to define and train any kind of deep-learning model\n",
    "* Initially developed for research, with the aim of enabling **fast deep learning experimentation**"
   ]
  },
  {
   "cell_type": "markdown",
   "metadata": {
    "slideshow": {
     "slide_type": "slide"
    }
   },
   "source": [
    "<img src=\"./images/fig_3.1.png\" />"
   ]
  },
  {
   "cell_type": "markdown",
   "metadata": {},
   "source": [
    "[1] *F. Chollet*, Deep Learning with Python, 2nd Ed., chapter 3.1, Fig. 3.1.\n",
    "\n",
    "Keras and TensorFlow: TensorFlow is a low-level tensor computing platform, Keras is a high-level deep learning API."
   ]
  },
  {
   "cell_type": "markdown",
   "metadata": {
    "nbpresent": {
     "id": "bd4a1fe5-bba1-4c90-b406-d17801ea6257"
    },
    "slideshow": {
     "slide_type": "slide"
    }
   },
   "source": [
    "**Run Keras**\n",
    "\n",
    "* **locally** (on CPUs on your own PC; on GPU on your own gaming PC): \n",
    "    - It is likely that your laptop doesn't have a graphical processing unit (GPU) suitable for use deep learning computations.\n",
    "    - This will result in longer training times for your model using only CPUs, but may be the only feasable option if you need to work offline.\n",
    "\n",
    "\n",
    "* **in the cloud** using [Google Colaboratory](https://colab.research.google.com/notebooks/welcome.ipynb) or [Kaggle](https://www.kaggle.com/notebooks) \n",
    "     - This requires internet connection and a Google / Kaggle account. \n",
    "     - You will have access to an outdated GPU "
   ]
  },
  {
   "cell_type": "markdown",
   "metadata": {
    "slideshow": {
     "slide_type": "slide"
    }
   },
   "source": [
    "## Other deep learning libraries"
   ]
  },
  {
   "cell_type": "markdown",
   "metadata": {},
   "source": [
    "* [PyTorch](https://pytorch.org/) (by Facebook)\n",
    "* [Caffe](http://caffe.berkeleyvision.org/)\n",
    "* ... and many more\n",
    "* [Overview on Wiki](https://en.wikipedia.org/wiki/Comparison_of_deep-learning_software)"
   ]
  },
  {
   "cell_type": "markdown",
   "metadata": {
    "nbpresent": {
     "id": "5d255640-4e48-48fe-9a93-788a8145ad18"
    },
    "slideshow": {
     "slide_type": "slide"
    }
   },
   "source": [
    "## Overview"
   ]
  },
  {
   "cell_type": "markdown",
   "metadata": {
    "nbpresent": {
     "id": "6b1c5938-5349-4c06-9d37-56c080176d4e"
    }
   },
   "source": [
    "- [For the unpatient - a quick look at a neural network built with Keras](#For-the-unpatient---a-quick-look-at-a-neural-network-built-with-Keras) - contains <font color=green>**COLAB NOTEBOOK 00**</font>\n",
    "- [Data representations for neural networks](#Data-representations-for-neural-networks) - contains <font color=green>**COLAB NOTEBOOK 01**</font>\n",
    "    - [Vector data](#Vector-data)\n",
    "    - [Time series or sequence data](#Time-series-or-sequence-data)\n",
    "    - [Image data](#Image-data)\n",
    "    - [Video data](#Video-data)\n",
    "- [Introduction to Keras](#Introduction-to-Keras)\n",
    "    - [Binary classification - Classifying movie reviews](#Binary-classification---Classifying-movie-reviews) - contains <font color=green>**COLAB NOTEBOOK 02**</font>\n",
    "    - [Multiclass classification - Classifying newswires](#Multiclass-classification---Classifying-newswires) - contains <font color=green>**COLAB NOTEBOOK 03**</font>\n",
    "    - [Regression - Predicting house prices](#Regression---Predicting-house-prices) - contains <font color=green>**COLAB NOTEBOOK 04**</font>\n",
    "- [Overfitting and underfitting: regularisation methods for ANN](#Overfitting-and-underfitting:-regularisation-methods-for-ANN) - contains <font color=green>**COLAB NOTEBOOK 05**</font>\n",
    "- [Choosing activation functions for multilayer networks](#Choosing-activation-functions-for-multilayer-networks)\n",
    "- [Vanishing gradient problem](#Vanishing-gradient-problem)\n",
    "- [Loss function: Cross entropy](#Loss-function:-Cross-entropy)\n",
    "- [Summary](#Summary)"
   ]
  },
  {
   "cell_type": "markdown",
   "metadata": {
    "nbpresent": {
     "id": "973a0b6c-c02a-47cf-93d6-214574b216aa"
    },
    "slideshow": {
     "slide_type": "slide"
    }
   },
   "source": [
    "## For the unpatient - a quick look at a neural network built with Keras"
   ]
  },
  {
   "cell_type": "markdown",
   "metadata": {
    "nbpresent": {
     "id": "ab731075-b032-4850-8674-3c23c9da71ee"
    }
   },
   "source": [
    "* Build our first neural network using the Keras library\n",
    "* More details on Keras later in this notebook\n",
    "* <font color=green>**COLAB NOTEBOOK 00**</font>: Data used in this [first example](https://colab.research.google.com/drive/1iG3Gg8-vqVufeCaAgQz9spWFWdp67pDP?usp=sharing): MNIST data (full set) of handwritten digits"
   ]
  },
  {
   "cell_type": "markdown",
   "metadata": {
    "nbpresent": {
     "id": "7c91e9a7-bb8e-4e36-a43b-9e6010a5bbb1"
    },
    "slideshow": {
     "slide_type": "slide"
    }
   },
   "source": [
    "## Data representations for neural networks"
   ]
  },
  {
   "cell_type": "markdown",
   "metadata": {
    "nbpresent": {
     "id": "f8eee3fe-ea93-40ec-87cb-9eb5c9366818"
    }
   },
   "source": [
    "* Previous example used data stored in multidimensional Numpy arrays, also called **tensors**.\n",
    "* **All machine learning systems** use tensors as their basic data structure\n",
    "* Tensors are fundamental to the field of machine learning - TensorFlow was named after them\n"
   ]
  },
  {
   "cell_type": "markdown",
   "metadata": {
    "nbpresent": {
     "id": "a1740ba8-51b2-42bd-a359-cda3e52e5b2c"
    },
    "slideshow": {
     "slide_type": "fragment"
    }
   },
   "source": [
    "* What are tensors?\n",
    "    - tensors are *containers for data* (almost always numerical data)\n",
    "    - tensors are a *generalisation of matrices* to an *arbitrary* number of dimensions\n",
    "    - a *dimension* is often called an axis in the context of tensors"
   ]
  },
  {
   "cell_type": "markdown",
   "metadata": {
    "nbpresent": {
     "id": "50663c88-366d-42f7-9682-416c89ecc6ab"
    },
    "slideshow": {
     "slide_type": "slide"
    }
   },
   "source": [
    "### Vector data"
   ]
  },
  {
   "cell_type": "markdown",
   "metadata": {
    "nbpresent": {
     "id": "c3c7292b-72ea-4819-85f0-c4ad9868a127"
    }
   },
   "source": [
    "* This is the most common case\n",
    "* In such a dataset, each single data point can be encoded as a vector.\n",
    "* Thus a batch of data will be encoded as a 2D tensor (array of vectors)\n",
    "* 2D tensor: first axis is the *samples axis* and the second axis is the *features axis*."
   ]
  },
  {
   "cell_type": "markdown",
   "metadata": {
    "nbpresent": {
     "id": "3c3b3a07-b081-4242-aeff-719ac5f10779"
    },
    "slideshow": {
     "slide_type": "slide"
    }
   },
   "source": [
    "#### Vector data -  Example 1"
   ]
  },
  {
   "cell_type": "markdown",
   "metadata": {
    "nbpresent": {
     "id": "8435301b-e916-4f7d-9f06-db9e144a15db"
    }
   },
   "source": [
    "Actuarial dataset of people considering:\n",
    "* persons age\n",
    "* ZIP code\n",
    "* income\n",
    "\n",
    "Each person can be characterised as a vector of 3 values. A dataset of 100 000 people could be stored in a 2D tensor of shape `(100000, 3)`."
   ]
  },
  {
   "cell_type": "markdown",
   "metadata": {
    "nbpresent": {
     "id": "98a413df-6017-426c-8195-e42bc6960066"
    },
    "slideshow": {
     "slide_type": "slide"
    }
   },
   "source": [
    "#### Vector data -  Example 2"
   ]
  },
  {
   "cell_type": "markdown",
   "metadata": {
    "nbpresent": {
     "id": "e9c4367b-ab75-4e1d-917c-eeb97d1ce379"
    }
   },
   "source": [
    "A dataset of text documents, where each document is represented by counts of how many times each word appears in it (out of a dictionary of 20 000 common words).\n",
    "\n",
    "* Each document can be considered as a vector of 20 000 values\n",
    "\n",
    "If dataset consists of 500 documents, data could be stored in a 2D tensor of shape `(500, 20000)`"
   ]
  },
  {
   "cell_type": "markdown",
   "metadata": {
    "nbpresent": {
     "id": "d6aa12d3-f86f-4aed-85ba-b45b271e0ff9"
    },
    "slideshow": {
     "slide_type": "slide"
    }
   },
   "source": [
    "### Time series or sequence data"
   ]
  },
  {
   "cell_type": "markdown",
   "metadata": {
    "nbpresent": {
     "id": "56cf3bdb-8807-4a69-b91a-9bd3a4e28aee"
    }
   },
   "source": [
    "* Whenever time matters in your data (or the notion of sequence order), it makes sense to store it in a 3D tensor with an **explicit time axis**\n",
    "* Each sample can be encoded as a sequence of vectors (a 2D tensor)\n",
    "* Thus a batch of data will be encoded as a 3D tensor"
   ]
  },
  {
   "cell_type": "markdown",
   "metadata": {
    "nbpresent": {
     "id": "9a5c8ddf-f99e-4812-b84b-908dfa13158d"
    }
   },
   "source": [
    "<img src=\"./images/fig_2.3.png\" width=\"350\"/>"
   ]
  },
  {
   "cell_type": "markdown",
   "metadata": {
    "nbpresent": {
     "id": "c79c36f6-f25e-416b-a4c2-9959b450ec76"
    }
   },
   "source": [
    "[1] *F. Chollet*, Deep Learning with Python, chapter 2.2.10, Fig. 2.3. **A 3D timeseries data tensor**"
   ]
  },
  {
   "cell_type": "markdown",
   "metadata": {
    "nbpresent": {
     "id": "9f0d4d76-1b38-41dc-b649-ea678e106103"
    },
    "slideshow": {
     "slide_type": "slide"
    }
   },
   "source": [
    "#### Timeseries data -  Example"
   ]
  },
  {
   "cell_type": "markdown",
   "metadata": {
    "nbpresent": {
     "id": "167c6d03-7836-4ca0-adc7-3b63b0acadc9"
    }
   },
   "source": [
    "A dataset of stockprices:\n",
    "\n",
    "* record current price of stock\n",
    "* record highest price in past minute\n",
    "* record lowest price in past minute\n",
    "\n",
    "Given a total of 390 minutes in a trading day, the data of one trading day will be stored in a 2D tensor of shape `(390 x 3)`. If there are 250 days of trading in one year then the data may be stored in a 3D tensor of shape `(250, 390, 3)`. In this case each sample would be the data of one trading day. "
   ]
  },
  {
   "cell_type": "markdown",
   "metadata": {
    "nbpresent": {
     "id": "1b74754a-26c7-42b3-b03e-80c8870660bc"
    },
    "slideshow": {
     "slide_type": "slide"
    }
   },
   "source": [
    "#### Sequence data -  Example"
   ]
  },
  {
   "cell_type": "markdown",
   "metadata": {
    "nbpresent": {
     "id": "2831dfbb-a501-4567-a642-6cd3df6a7915"
    }
   },
   "source": [
    "A dataset of tweets:\n",
    "\n",
    "* encode each tweet as a sequence of 280 characters out of an alphabet of 128 unique characters\n",
    "* each character can be encoded as a binary vector of size 128 (an all-zeros vector except for a 1 entry at the index corresponding to the character)\n",
    "\n",
    "Each tweet can be encoded as a 2D tensor of shape `(280, 128)`. Hence, a dataset of 1 million tweets can be stored in a 3D tensor of shape `(1000000, 280, 128)`."
   ]
  },
  {
   "cell_type": "markdown",
   "metadata": {
    "nbpresent": {
     "id": "33207130-bf00-49d1-bbc6-19decbf10acf"
    },
    "slideshow": {
     "slide_type": "slide"
    }
   },
   "source": [
    "### Image data"
   ]
  },
  {
   "cell_type": "markdown",
   "metadata": {
    "nbpresent": {
     "id": "e8ba5365-53d6-43d6-b69a-25c04ef96f59"
    }
   },
   "source": [
    "* Images typically have three dimensions: height, width and colour depth\n",
    "* Although grayscale images (like our MNIST digits) have only a single color channel and could thus be stored in 2D tensors, by convention image tensors are always 3D, with a onedimensional color channel for grayscale images\n",
    "\n",
    "A batch of 128 grayscale images of size 256 × 256 could thus be stored in a tensor of shape `(128, 256, 256, 1)`. A\n",
    "batch of 128 color images could be stored in a tensor of shape `(128, 256, 256, 3)`."
   ]
  },
  {
   "cell_type": "markdown",
   "metadata": {
    "nbpresent": {
     "id": "686a5e30-6e1a-426e-8846-d8d613c6e283"
    },
    "slideshow": {
     "slide_type": "slide"
    }
   },
   "source": [
    "<img src=\"./images/fig_2.4.png\" width=\"400\"/>"
   ]
  },
  {
   "cell_type": "markdown",
   "metadata": {
    "nbpresent": {
     "id": "8d561117-d8c0-424f-acbd-22971b80bd6c"
    }
   },
   "source": [
    "[1] *F. Chollet*, Deep Learning with Python, chapter 2.2.11, Fig. 2.4. **A 4D image data tensor (channel-first convention)**"
   ]
  },
  {
   "cell_type": "markdown",
   "metadata": {
    "nbpresent": {
     "id": "306581a5-3681-422d-b927-114f977c0b0e"
    },
    "slideshow": {
     "slide_type": "slide"
    }
   },
   "source": [
    "**Two conventions** for shapes of image tensors:\n",
    "* *channel-last* convention as used by TensorFlow `(samples, height, width, color_depth)`\n",
    "* *channel-first* convention as used by Theano `(samples, color_depth, height, width)`\n",
    "* Either, TensorFlow or Theano, may be used as the engine for Keras"
   ]
  },
  {
   "cell_type": "markdown",
   "metadata": {
    "nbpresent": {
     "id": "32922d54-f09b-4685-9338-49c4ddc6a5d7"
    },
    "slideshow": {
     "slide_type": "slide"
    }
   },
   "source": [
    "### Video data"
   ]
  },
  {
   "cell_type": "markdown",
   "metadata": {
    "nbpresent": {
     "id": "5b64dd29-f187-46a8-829d-4b03149ca893"
    }
   },
   "source": [
    "* Video data is one of the few types of real-world data for which you’ll need 5D tensors\n",
    "* A video can be understood as a sequence of frames, each frame being a color image\n",
    "* Because each frame can be stored in a 3D tensor `(height, width, color_depth)`, a sequence of frames can be stored in a 4D tensor `(frames, height, width, color_depth)`\n",
    "* Thus a batch of **different videos** can be stored in a 5D tensor of shape `(samples, frames, height, width, color_depth)`"
   ]
  },
  {
   "cell_type": "markdown",
   "metadata": {
    "nbpresent": {
     "id": "ffdef7ad-ecbd-48e0-943a-4db221e2e056"
    },
    "slideshow": {
     "slide_type": "slide"
    }
   },
   "source": [
    "#### Video data - Example"
   ]
  },
  {
   "cell_type": "markdown",
   "metadata": {
    "nbpresent": {
     "id": "e287bf1b-68af-4a6e-939f-8b5665d35eb1"
    }
   },
   "source": [
    "Imagine you have a video with the following properties:\n",
    "\n",
    "* 60 second video\n",
    "* 144 x 256 (height, width)\n",
    "* 4 frames per second\n",
    "\n",
    "A batch of **four** such video clips would be stored in a tensor of shape `(4, 240, 144, 256, 3)`. That’s a total of 106 168 320 values! If the `dtype` of the tensor was `float32`, then each value would be stored in 32 bits, so the tensor would represent 405 MB, which is quite a lot. Videos in real life are much lighter, because they aren’t stored in `float32`, and they’re typically compressed by a large factor (such as in the MPEG format)."
   ]
  },
  {
   "cell_type": "markdown",
   "metadata": {
    "nbpresent": {
     "id": "cad9e55a-f576-49d1-88a3-197af6f2cf64"
    }
   },
   "source": [
    "<font color=green>**COLAB NOTEBOOK 01**</font>: code on [use of tensors](https://colab.research.google.com/drive/1Ti5xgYJyeMmesZ8vTKCm2L0JeSwNFmsG?usp=sharing)"
   ]
  },
  {
   "cell_type": "markdown",
   "metadata": {
    "nbpresent": {
     "id": "1970300c-a616-41de-ba29-ca3bb2b83b82"
    },
    "slideshow": {
     "slide_type": "slide"
    }
   },
   "source": [
    "## Introduction to Keras"
   ]
  },
  {
   "cell_type": "markdown",
   "metadata": {
    "nbpresent": {
     "id": "ac168c6c-bf66-4d47-ae8a-ad02145d64b9"
    }
   },
   "source": [
    "This section covers:\n",
    "* Core components of neural networks\n",
    "* An introduction to Keras\n",
    "* Using neural networks to solve basic classification and regression problems\n",
    "\n",
    "\n",
    "* Three introductory examples of how to use neural networks to address real problems\n",
    "    - Classifying movie reviews as **positive** or **negative** (binary classification)\n",
    "    - Classifying news wires by **topic** (multiclass classification)\n",
    "    - Estimating the **price of a house**, given real-estate data (regression)"
   ]
  },
  {
   "cell_type": "markdown",
   "metadata": {
    "nbpresent": {
     "id": "2fcb1632-c60f-46ad-8b54-172992f4ae0c"
    },
    "slideshow": {
     "slide_type": "slide"
    }
   },
   "source": [
    "### Anatomy of a neural network"
   ]
  },
  {
   "cell_type": "markdown",
   "metadata": {
    "nbpresent": {
     "id": "f808aaaa-cb10-4f61-9b98-2a3eb179dddd"
    }
   },
   "source": [
    " training a neural network revolves around the following objects:\n",
    "\n",
    "1. **Layers**, which are combined into a network (or model)\n",
    "2. The **input data** and **corresponding targets**\n",
    "3. The **loss function**, which defines the feedback signal used for learning\n",
    "4. The **optimizer**, which determines how learning proceeds"
   ]
  },
  {
   "cell_type": "markdown",
   "metadata": {
    "nbpresent": {
     "id": "022709f7-59a6-4e48-a210-43c28a4c8ce9"
    },
    "slideshow": {
     "slide_type": "slide"
    }
   },
   "source": [
    "<img src=\"./images/ANN.png\" width=\"500\"/>"
   ]
  },
  {
   "cell_type": "markdown",
   "metadata": {
    "nbpresent": {
     "id": "d23127c7-063e-4732-b1f0-ae0d6c022393"
    }
   },
   "source": [
    "[1] *F. Chollet*, Deep Learning with Python, chapter 3.1, Fig. 3.1. **Relationship between the network, layers, loss function and optimiser.**"
   ]
  },
  {
   "cell_type": "markdown",
   "metadata": {
    "slideshow": {
     "slide_type": "slide"
    }
   },
   "source": [
    "#### Layers: the building blocks of deep learning"
   ]
  },
  {
   "cell_type": "markdown",
   "metadata": {},
   "source": [
    "* Layers are a fundamental data structure in neural networks\n",
    "* A layer is a data-processing module that takes as input one or more tensors and that outputs one or more tensors\n",
    "* The layer’s **weights** contain the network’s **knowledge**"
   ]
  },
  {
   "cell_type": "markdown",
   "metadata": {
    "slideshow": {
     "slide_type": "slide"
    }
   },
   "source": [
    "##### Types of layers"
   ]
  },
  {
   "cell_type": "markdown",
   "metadata": {
    "slideshow": {
     "slide_type": "-"
    }
   },
   "source": [
    "Different layers are appropriate for different tensor formats and different types of data\n",
    "processing. For instance:\n",
    "\n",
    "* *simple vector data*, stored in 2D tensors of shape `(samples, features)`, is often processed by **densely** connected layers\n",
    "    - also called **fully** connected or **dense layers**\n",
    "    - represented by `Dense` class in Keras\n",
    "* *sequence data*, stored in 3D tensors of shape `(samples, timesteps, features)`, is typically processed by **recurrent layers** such as an `LSTM` layer\n",
    "* *Image data*, stored in 4D tensors, is usually processed by 2D **convolution layers** (`Conv2D`)."
   ]
  },
  {
   "cell_type": "markdown",
   "metadata": {
    "slideshow": {
     "slide_type": "slide"
    }
   },
   "source": [
    "* Layers are the LEGO bricks of deep learning, a metaphor that is made explicit by frameworks like Keras\n",
    "* Building deep-learning models in Keras is done by clipping together **compatible layers** to form useful **data-transformation** pipelines.\n",
    "* The notion of **layer compatibility** here refers specifically to the fact that every layer will only accept **input tensors** of a **certain shape** and will return **output tensors** of a certain shape."
   ]
  },
  {
   "cell_type": "markdown",
   "metadata": {
    "slideshow": {
     "slide_type": "slide"
    }
   },
   "source": [
    "**Code implementation**"
   ]
  },
  {
   "cell_type": "code",
   "execution_count": null,
   "metadata": {},
   "outputs": [],
   "source": [
    "from tensorflow.keras import layers\n",
    "layer = layers.Dense(32, activation='relu')"
   ]
  },
  {
   "cell_type": "markdown",
   "metadata": {},
   "source": [
    "* Create a layer that accepts only 2D tensors (remember, that's what `Dense` layers do)\n",
    "* The `Dense` layer has `32` output or activation units\n",
    "* The first dimension of the 2D tensor is `784` (axis 0, the **batch dimension**, is unspecified, and thus any value would be accepted)\n",
    "* This layer will return a tensor where the first dimension has been transformed to be `32`"
   ]
  },
  {
   "cell_type": "markdown",
   "metadata": {
    "slideshow": {
     "slide_type": "slide"
    }
   },
   "source": [
    "**Code implementation**"
   ]
  },
  {
   "cell_type": "markdown",
   "metadata": {},
   "source": [
    "* With Keras, there is no reason to worry about compatibility, because the layers added to the models are **dynamically built** to **match the shape** of the **incoming layer**"
   ]
  },
  {
   "cell_type": "code",
   "execution_count": null,
   "metadata": {},
   "outputs": [],
   "source": [
    "from tensorflow.keras import models\n",
    "from tensorflow.keras import layers\n",
    "\n",
    "model = models.Sequential([\n",
    "    layers.Dense(32, activation='relu'),\n",
    "    layers.Dense(32)])"
   ]
  },
  {
   "cell_type": "markdown",
   "metadata": {
    "slideshow": {
     "slide_type": "slide"
    }
   },
   "source": [
    "#### Models: networks of layers"
   ]
  },
  {
   "cell_type": "markdown",
   "metadata": {},
   "source": [
    "* A deep-learning model is a directed, acyclic graph of layers\n",
    "* The most common instance is a linear stack of layers, mapping a single input to a single output\n",
    "*  There is a broader variety of network topologies. Some common ones include the following:\n",
    "    - Two-branch networks\n",
    "    - Multihead networks\n",
    "    - Inception blocks"
   ]
  },
  {
   "cell_type": "markdown",
   "metadata": {},
   "source": [
    "* The **topology** of a network defines a **hypothesis space**\n",
    "* By choosing a network topology, you **constrain** your space of possibilities (hypothesis space) to a specific **series of tensor operations**, mapping input data to output data\n",
    "*  Picking the right network architecture is more an **art** than a **science**\n",
    "*  Although there are some best practices and principles you can rely on, **only practice** can help you become a proper neural-network architect"
   ]
  },
  {
   "cell_type": "markdown",
   "metadata": {
    "slideshow": {
     "slide_type": "slide"
    }
   },
   "source": [
    "#### Loss functions and optimizers: keys to configuring the learning process"
   ]
  },
  {
   "cell_type": "markdown",
   "metadata": {},
   "source": [
    "Once the network architecture is defined, there are two more things that need to be defined.\n",
    "\n",
    "* **Loss function** (**objective function**): the quantity that will be minimized during training. It represents a measure of success for the task at hand\n",
    "* **Optimizer**: determines how the network will be updated based on the loss function. It implements a specific variant of stochastic gradient descent (SGD)"
   ]
  },
  {
   "cell_type": "markdown",
   "metadata": {},
   "source": [
    "Choosing the right objective function for the right problem is extremely important: the network will take any shortcut it can, to minimize the loss. If the objective doesn’t fully correlate with success for the task at hand, your network will end up\n",
    "doing things you may not have wanted. "
   ]
  },
  {
   "cell_type": "markdown",
   "metadata": {
    "slideshow": {
     "slide_type": "subslide"
    }
   },
   "source": [
    "For common problems such as classification, regression and sequence prediction, there are simple guidelines one can follow to choose the correct loss. For instance:\n",
    "\n",
    "* **binary crossentropy** for a **two-class classification** problem\n",
    "* **categorical crossentropy** for a **many-class classification** problem\n",
    "* **mean squared error** for a **regression** problem\n",
    "* **connectionist temporal classification (CTC)** for a sequence-learning problem\n",
    "* etc."
   ]
  },
  {
   "cell_type": "markdown",
   "metadata": {},
   "source": [
    "Only when working on truly new research problems one will have to develop own objective functions. In the next few chapters, we’ll detail explicitly which loss functions to choose for a wide range of common tasks. "
   ]
  },
  {
   "cell_type": "markdown",
   "metadata": {
    "slideshow": {
     "slide_type": "slide"
    }
   },
   "source": [
    "### Keras workflow"
   ]
  },
  {
   "cell_type": "markdown",
   "metadata": {},
   "source": [
    "In the MNIST example we have already built our first Keras model. The general workflow is constructed like this: \n",
    "\n",
    "1. Define your training data: input tensors and target tensors.\n",
    "2. Define a network of layers (or model ) that maps your inputs to your targets.\n",
    "3. Configure the learning process by choosing a loss function, an optimizer, and some metrics to monitor.\n",
    "4. Iterate on your training data by calling the `fit()` method of your model"
   ]
  },
  {
   "cell_type": "markdown",
   "metadata": {
    "slideshow": {
     "slide_type": "slide"
    }
   },
   "source": [
    "**Defining a Keras model**"
   ]
  },
  {
   "cell_type": "markdown",
   "metadata": {},
   "source": [
    "There are two ways to define a Keras model:\n",
    "\n",
    "1. using the `Sequential` class (only for linear stacks of layers, which is the most common network architecture by far)\n",
    "2. using the *functional* API (for directed acyclic graphs of layers, which lets you build completely arbitrary architectures)"
   ]
  },
  {
   "cell_type": "markdown",
   "metadata": {
    "slideshow": {
     "slide_type": "slide"
    }
   },
   "source": [
    "Here’s a two-layer model defined using the `Sequential` class"
   ]
  },
  {
   "cell_type": "code",
   "execution_count": null,
   "metadata": {},
   "outputs": [],
   "source": [
    "from tensorflow.keras import models\n",
    "from tensorflow.keras import layers\n",
    "\n",
    "model = models.Sequential([\n",
    "    layers.Dense(32, activation='relu'),\n",
    "    layers.Dense(32)])"
   ]
  },
  {
   "cell_type": "markdown",
   "metadata": {
    "slideshow": {
     "slide_type": "slide"
    }
   },
   "source": [
    "Once your model architecture is defined, it doesn’t matter whether you used a `Sequential` model or the functional API. All of the following steps are the same. The learning process is configured in the compilation step, where you specify:\n",
    "\n",
    "* *Loss function (objective function)* — The quantity that will be minimized during training. It represents a measure of success for the task at hand.\n",
    "* *Optimizer* — Determines how the network will be updated based on the loss function. It implements a specific variant of stochastic gradient descent (SGD).\n",
    "* *Metrics* — The measures of success you want to monitor during training and validation, such as classification accuracy. Unlike the loss, training will not optimize directly for these metrics. As such, metrics don’t need to be differentiable."
   ]
  },
  {
   "cell_type": "markdown",
   "metadata": {
    "slideshow": {
     "slide_type": "slide"
    }
   },
   "source": [
    "Here’s an example with a single loss function, which is by far the most common case:"
   ]
  },
  {
   "cell_type": "code",
   "execution_count": null,
   "metadata": {},
   "outputs": [],
   "source": [
    "# Define model\n",
    "model = keras.Sequential([keras.layers.Dense(1)])\n",
    "\n",
    "# Compile model\n",
    "model.compile(optimizer='rmsprop',\n",
    "              loss='mean_squared_error',\n",
    "              metrics=['accuracy'])"
   ]
  },
  {
   "cell_type": "markdown",
   "metadata": {
    "slideshow": {
     "slide_type": "slide"
    }
   },
   "source": [
    "Finally, the learning process consists of passing Numpy arrays of input data (and the corresponding target data) to the model via the `fit()` method, similar to what you would do in Scikit-Learn and several other machine-learning libraries:"
   ]
  },
  {
   "cell_type": "code",
   "execution_count": null,
   "metadata": {},
   "outputs": [],
   "source": [
    "# Fit model (in the same manner as you would with scikit-learn)\n",
    "model.fit(input_tensor,\n",
    "          target_tensor, \n",
    "          epochs=5\n",
    "          batch_size=128)"
   ]
  },
  {
   "cell_type": "markdown",
   "metadata": {},
   "source": [
    "Over the next few chapters, you’ll build a solid intuition about what type of network architectures work for different kinds of problems, how to pick the right learning configuration, and how to tweak a model until it gives the results you want to see. We’ll look at three basic examples in sections: \n",
    "\n",
    "* a two-class classification example\n",
    "* a many-class classification example \n",
    "* a regression example"
   ]
  },
  {
   "cell_type": "markdown",
   "metadata": {
    "slideshow": {
     "slide_type": "slide"
    }
   },
   "source": [
    "### Binary classification - Classifying movie reviews"
   ]
  },
  {
   "cell_type": "markdown",
   "metadata": {},
   "source": [
    "Two-class classification, or binary classification, may be the most widely applied kind of machine-learning problem. In this example, you’ll learn to classify movie reviews as positive or negative, based on the text content of the reviews."
   ]
  },
  {
   "cell_type": "markdown",
   "metadata": {},
   "source": [
    "<font color=green>**COLAB NOTEBOOK 02**</font>: [Classifying movie reviews](https://colab.research.google.com/drive/1d17CTqADFahrrFvJFFbbvDbxwbVPxuGw?usp=sharing)"
   ]
  },
  {
   "cell_type": "markdown",
   "metadata": {
    "slideshow": {
     "slide_type": "slide"
    }
   },
   "source": [
    "### Multiclass classification - Classifying newswires"
   ]
  },
  {
   "cell_type": "markdown",
   "metadata": {},
   "source": [
    "<font color=green>**COLAB NOTEBOOK 03**</font>: [Classifying newswires](https://colab.research.google.com/drive/103rpmFW5laPRSRttkd5KnrEIx0JrwB-b?usp=sharing)"
   ]
  },
  {
   "cell_type": "markdown",
   "metadata": {
    "slideshow": {
     "slide_type": "slide"
    }
   },
   "source": [
    "### Regression - Predciting house prices"
   ]
  },
  {
   "cell_type": "markdown",
   "metadata": {},
   "source": [
    "<font color=green>**COLAB NOTEBOOK 04**</font>: [Predicting house prices](https://colab.research.google.com/drive/1_hCgKqYjxgBe2mHECK3uAyPhewm9l05k?usp=sharing)"
   ]
  },
  {
   "cell_type": "markdown",
   "metadata": {
    "slideshow": {
     "slide_type": "slide"
    }
   },
   "source": [
    "## Overfitting and underfitting: regularisation methods for ANN"
   ]
  },
  {
   "cell_type": "markdown",
   "metadata": {},
   "source": [
    "<font color=green>**COLAB NOTEBOOK 05**</font>: [Regularisation in Keras](https://colab.research.google.com/drive/17xnyr8TsZu_wF7wQZFnQ-1C9NqxkOXb9?usp=sharing)"
   ]
  },
  {
   "cell_type": "markdown",
   "metadata": {
    "slideshow": {
     "slide_type": "slide"
    }
   },
   "source": [
    "## Choosing activation functions for multilayer networks"
   ]
  },
  {
   "cell_type": "markdown",
   "metadata": {},
   "source": [
    "* Technically, one can use **any function** as an activation function in multilayer neural networks as long as it is **differentiable**\n",
    "* One could can even use **linear** activation functions, such as in Adaline, but ...\n"
   ]
  },
  {
   "cell_type": "markdown",
   "metadata": {
    "slideshow": {
     "slide_type": "fragment"
    }
   },
   "source": [
    "- would **not** be very useful to use linear activation functions for both hidden and output layers \n",
    "- to tackle complex problems one needs to introduce **non-linearity**\n",
    "- the **sum of linear functions** would yield only **another** linear function"
   ]
  },
  {
   "cell_type": "markdown",
   "metadata": {
    "slideshow": {
     "slide_type": "slide"
    }
   },
   "source": [
    "\n",
    "### Activation Functions: Pros and Cons\n",
    "\n",
    "| **Activation Function** | **Pros**                               | **Cons**                                    |\n",
    "|-------------------------|----------------------------------------|---------------------------------------------|\n",
    "| **Linear**              | Simple, good for regression            | No non-linearity, cannot handle complex data|\n",
    "| **Unit Step**           | Simple, useful in binary classification| Not differentiable, poor for gradient-based learning |\n",
    "| **Sign**                | Easy to compute                        | Non-differentiable, limits model complexity |\n",
    "| **Piece-wise Linear**    | Used in specific algorithms (SVMs)     | More complex, limited use in neural networks|\n",
    "| **Logistic (Sigmoid)**  | Smooth output, good for probabilities  | Vanishing gradient problem, slow convergence|\n",
    "| **Tanh (Hyperbolic Tangent)** | Zero-centered output, stronger gradient | Suffers from vanishing gradients          |\n",
    "| **ReLU**                | Efficient, fast convergence, avoids vanishing gradients | Can \"die\" for negative inputs, not zero-centered |\n"
   ]
  },
  {
   "cell_type": "markdown",
   "metadata": {},
   "source": [
    "<img src=\"./images/overview_actfunc.png\" width=\"600\"/>"
   ]
  },
  {
   "cell_type": "markdown",
   "metadata": {
    "slideshow": {
     "slide_type": "slide"
    }
   },
   "source": [
    "* The **logistic activation function** (which we often called *sigmoid function*) mimics the concept of a neuron in a brain most closely - think of it as the probability of whether a neuron fires or not\n",
    "* However, logistic activation functions can be problematic\n",
    "    - When net input $\\textbf{z}$ is **highly negative**, $\\phi{(\\textbf{z})}$ would be close to zero\n",
    "    - If $\\phi{(\\textbf{z})}$ is close to zero the neural network would learn **very slowly**\n",
    "    - More slowly learning could lead to the neural network **getting trapped in local minima** during training"
   ]
  },
  {
   "cell_type": "markdown",
   "metadata": {
    "slideshow": {
     "slide_type": "slide"
    }
   },
   "source": [
    "### Logistic function recap"
   ]
  },
  {
   "cell_type": "markdown",
   "metadata": {},
   "source": [
    "* The **logistic function** is a special case of a **sigmoid function**\n",
    "* We can use a logistic function to model the probability that sample $\\textbf{x}$ belongs to the positive class (class 1) in a **binary classification** task\n",
    "* The net input $z$ is shown in the following equation:"
   ]
  },
  {
   "cell_type": "markdown",
   "metadata": {},
   "source": [
    "<img src=\"./images/netInputZ.png\" width=\"800\"/>"
   ]
  },
  {
   "cell_type": "markdown",
   "metadata": {
    "slideshow": {
     "slide_type": "slide"
    }
   },
   "source": [
    "The logistic function will compute the following:"
   ]
  },
  {
   "cell_type": "markdown",
   "metadata": {},
   "source": [
    "<img src=\"./images/phiOfZ.png\" width=\"400\"/>"
   ]
  },
  {
   "cell_type": "markdown",
   "metadata": {
    "slideshow": {
     "slide_type": "slide"
    }
   },
   "source": [
    "#### Example using two-dimensional data"
   ]
  },
  {
   "cell_type": "code",
   "execution_count": 2,
   "metadata": {},
   "outputs": [
    {
     "name": "stdout",
     "output_type": "stream",
     "text": [
      "P(y=1|x) = 0.888\n"
     ]
    }
   ],
   "source": [
    "# Import necessary modules\n",
    "import numpy as np\n",
    "\n",
    "# Generate some two-dimensional data including bias and weight vector w\n",
    "X = np.array([1, 1.4, 2.5]) ## first value must be 1, since it represents bias\n",
    "w = np.array([0.4, 0.3, 0.5])\n",
    "\n",
    "# Define function for computation of net input z\n",
    "def net_input(X, w):\n",
    "    return np.dot(X, w)\n",
    "\n",
    "# Define logistic function\n",
    "def logistic(z):\n",
    "    return 1.0 / (1.0 + np.exp(-z))\n",
    "\n",
    "# Define phi(z) activation function\n",
    "def logistic_activation(X, w):\n",
    "    z = net_input(X, w)\n",
    "    return logistic(z)\n",
    "\n",
    "# Compute probability of x belonging to positive class (y = 1)\n",
    "print('P(y=1|x) = %.3f' % logistic_activation(X, w))"
   ]
  },
  {
   "cell_type": "markdown",
   "metadata": {
    "slideshow": {
     "slide_type": "slide"
    }
   },
   "source": [
    "However, an output layer consisting of **multiple logistic activation units** does not produce meaningful, interpretable probability values. This is illustrated by code below:"
   ]
  },
  {
   "cell_type": "code",
   "execution_count": 3,
   "metadata": {},
   "outputs": [
    {
     "name": "stdout",
     "output_type": "stream",
     "text": [
      "Net Input: \n",
      " [1.78 0.76 1.65]\n",
      "Output Units:\n",
      " [0.85569687 0.68135373 0.83889105]\n"
     ]
    }
   ],
   "source": [
    "# NOTE: This code was adapted to correspond with equations discussed in chapter 12\n",
    "\n",
    "# W : array with shape = (n_hidden_units + 1, n_output_units)\n",
    "#     note that the first row are the bias units\n",
    "W = np.array([[1.1, 0.2, 0.6],\n",
    "              [1.2, 0.4, 1.5],\n",
    "              [0.8, 1. , 1.2],\n",
    "              [0.4, 0.2, 0.7]])\n",
    "\n",
    "# A : data array with shape = (n_samples, n_hidden_units + 1)\n",
    "#     note that the first column of this array must be 1\n",
    "A = np.array([[1, 0.1, 0.4, 0.6]])\n",
    "\n",
    "# Compute net input Z and probabilities \n",
    "Z = np.dot(A[0], W)\n",
    "y_probas = logistic(Z)\n",
    "\n",
    "print('Net Input: \\n', Z)\n",
    "\n",
    "print('Output Units:\\n', y_probas)"
   ]
  },
  {
   "cell_type": "markdown",
   "metadata": {
    "slideshow": {
     "slide_type": "slide"
    }
   },
   "source": [
    "* The resulting values **cannot** be interpreted as **probabilities** for a three-class problem\n",
    "* The reason for this is that they **do not** sum up to 1\n",
    "* Usually, this is not of concern when we use the model to predict class membership\n",
    "* One to predict class membership is to assign sample to **maximum value** of $\\textbf{Z}$"
   ]
  },
  {
   "cell_type": "code",
   "execution_count": 3,
   "metadata": {
    "slideshow": {
     "slide_type": "fragment"
    }
   },
   "outputs": [
    {
     "name": "stdout",
     "output_type": "stream",
     "text": [
      "Predicted class label: 0\n"
     ]
    }
   ],
   "source": [
    "y_class = np.argmax(Z, axis=0)\n",
    "print('Predicted class label: {0}'.format(y_class))"
   ]
  },
  {
   "cell_type": "markdown",
   "metadata": {
    "slideshow": {
     "slide_type": "fragment"
    }
   },
   "source": [
    "* In certain contexts, it can be useful to compute meaningful class probabilities for multiclass predictions \n",
    "* In the next section, we will take a look at a **generalization** of the logistic function, the ``softmax`` function, which can help us with this task"
   ]
  },
  {
   "cell_type": "markdown",
   "metadata": {
    "slideshow": {
     "slide_type": "slide"
    }
   },
   "source": [
    "### Estimating class probabilities in multiclass classification via the ``softmax`` function"
   ]
  },
  {
   "cell_type": "markdown",
   "metadata": {},
   "source": [
    "* In previous sections: obtain a class label using the ``argmax`` function\n",
    "* The ``softmax`` function is in fact a soft form of the ``argmax`` function; instead of giving a single class index, it provides the **probability of each class**\n",
    "* The ``softmax`` function allows for computation of **meaningful** class probabilities in **multiclass** settings (multinomial logistic regression)"
   ]
  },
  {
   "cell_type": "markdown",
   "metadata": {
    "slideshow": {
     "slide_type": "fragment"
    }
   },
   "source": [
    "In ``softmax``, the probability of a particular sample with net input $z$ belonging to the $i$th class can be computed with a normalization term in the denominator, that is, the sum of all $M$ linear functions.\n",
    "We do not use Softmax in hidden layers: If a hidden layer has multiple neurons, each neuron is supposed to activate independently, meaning they respond to different patterns in the input. However, if we use softmax in a hidden layer, it forces the neurons to compete with each other because their outputs must add up to 1. This would interfere with their job of learning different features from the data and limit the flexibility of the network to learn effectively"
   ]
  },
  {
   "cell_type": "markdown",
   "metadata": {},
   "source": [
    "<img src=\"./images/softmax_eq.png\" width=\"500\"/>"
   ]
  },
  {
   "cell_type": "markdown",
   "metadata": {},
   "source": [
    "The ``softmax`` function coded in Python:"
   ]
  },
  {
   "cell_type": "code",
   "execution_count": 4,
   "metadata": {},
   "outputs": [
    {
     "name": "stdout",
     "output_type": "stream",
     "text": [
      "Probabilities:\n",
      " [0.44668973 0.16107406 0.39223621]\n"
     ]
    }
   ],
   "source": [
    "def softmax(z):\n",
    "    return np.exp(z) / np.sum(np.exp(z))\n",
    "\n",
    "y_probas = softmax(Z)\n",
    "print('Probabilities:\\n', y_probas)"
   ]
  },
  {
   "cell_type": "code",
   "execution_count": 5,
   "metadata": {},
   "outputs": [
    {
     "data": {
      "text/plain": [
       "1.0"
      ]
     },
     "execution_count": 5,
     "metadata": {},
     "output_type": "execute_result"
    }
   ],
   "source": [
    "np.sum(y_probas)"
   ]
  },
  {
   "cell_type": "code",
   "execution_count": 6,
   "metadata": {},
   "outputs": [
    {
     "data": {
      "text/plain": [
       "0"
      ]
     },
     "execution_count": 6,
     "metadata": {},
     "output_type": "execute_result"
    }
   ],
   "source": [
    "np.argmax(y_probas)"
   ]
  },
  {
   "cell_type": "markdown",
   "metadata": {},
   "source": [
    "* The predicted class label is the same as when we applied the ``argmax`` function to the logistic output\n",
    "* Intuitively, it may help to think of the ``softmax`` function as a *normalized* output that is useful to obtain meaningful **classmembership predictions** in multiclass settings"
   ]
  },
  {
   "cell_type": "markdown",
   "metadata": {
    "slideshow": {
     "slide_type": "slide"
    }
   },
   "source": [
    "### Broadening the output spectrum using a hyperbolic tangent"
   ]
  },
  {
   "cell_type": "markdown",
   "metadata": {},
   "source": [
    "* Another *sigmoid function* that is often used in the **hidden layers** of artificial neural networks is the **hyperbolic tangent** (commonly known as ``tanh``)\n",
    "* ``tanh`` can be interpreted as a rescaled version of the logistic function"
   ]
  },
  {
   "cell_type": "markdown",
   "metadata": {},
   "source": [
    "<img src=\"./images/log_&_tanh.png\" width=\"700\"/>\n"
   ]
  },
  {
   "cell_type": "markdown",
   "metadata": {
    "slideshow": {
     "slide_type": "slide"
    }
   },
   "source": [
    "**Advantage of the hyperbolic tangent over the logistic function**\n",
    "\n",
    "* It has a **broader output spectrum** and ranges in the **open interval** (-1, 1)\n",
    "* This can improve the convergence of the back propagation algorithm [Neural Networks for Pattern Recognition, C. M. Bishop, Oxford University Press, pages: 500-501, 1995](https://www.microsoft.com/en-us/research/wp-content/uploads/1996/01/neural_networks_pattern_recognition.pdf)\n",
    "* In contrast, the logistic function returns an output signal that ranges in the open interval (0, 1)"
   ]
  },
  {
   "cell_type": "markdown",
   "metadata": {
    "slideshow": {
     "slide_type": "fragment"
    }
   },
   "source": [
    "For an intuitive comparison of the logistic function and the hyperbolic tangent, let's plot the two sigmoid functions:"
   ]
  },
  {
   "cell_type": "code",
   "execution_count": 7,
   "metadata": {
    "scrolled": true,
    "slideshow": {
     "slide_type": "slide"
    }
   },
   "outputs": [
    {
     "data": {
      "image/png": "[encoded data removed]",
      "text/plain": [
       "<Figure size 432x288 with 1 Axes>"
      ]
     },
     "metadata": {
      "needs_background": "light"
     },
     "output_type": "display_data"
    }
   ],
   "source": [
    "%matplotlib inline\n",
    "import matplotlib.pyplot as plt\n",
    "\n",
    "def tanh(z):\n",
    "    e_p = np.exp(z)\n",
    "    e_m = np.exp(-z)\n",
    "    return (e_p - e_m) / (e_p + e_m)\n",
    "\n",
    "z = np.arange(-5, 5, 0.005)\n",
    "log_act = logistic(z)\n",
    "tanh_act = tanh(z)\n",
    "\n",
    "plt.ylim([-1.5, 1.5])\n",
    "plt.xlabel('net input $z$')\n",
    "plt.ylabel('activation $\\phi(z)$')\n",
    "plt.axhline(1, color='black', linestyle=':')\n",
    "plt.axhline(0.5, color='black', linestyle=':')\n",
    "plt.axhline(0, color='black', linestyle=':')\n",
    "plt.axhline(-0.5, color='black', linestyle=':')\n",
    "plt.axhline(-1, color='black', linestyle=':')\n",
    "\n",
    "plt.plot(z, tanh_act,\n",
    "         linewidth=3, linestyle='--',\n",
    "         label='tanh')\n",
    "\n",
    "plt.plot(z, log_act,\n",
    "         linewidth=3,\n",
    "         label='logistic')\n",
    "plt.legend(loc='lower right')\n",
    "plt.tight_layout()\n",
    "#plt.savefig('images/13_03.png')\n",
    "plt.show()"
   ]
  },
  {
   "cell_type": "markdown",
   "metadata": {
    "slideshow": {
     "slide_type": "slide"
    }
   },
   "source": [
    "* The shapes of the two sigmoidal curves look very similar\n",
    "* however, the ``tanh`` function has 2× larger output space than the ``logistic`` function"
   ]
  },
  {
   "cell_type": "markdown",
   "metadata": {
    "slideshow": {
     "slide_type": "fragment"
    }
   },
   "source": [
    "* Note that we implemented the ``logistic`` and ``tanh`` functions verbosely for the purpose of illustration\n",
    "* In practice, we can use NumPy's ``tanh`` function to achieve the same results:"
   ]
  },
  {
   "cell_type": "code",
   "execution_count": 8,
   "metadata": {
    "slideshow": {
     "slide_type": "fragment"
    }
   },
   "outputs": [],
   "source": [
    "tanh_act = np.tanh(z)"
   ]
  },
  {
   "cell_type": "markdown",
   "metadata": {
    "slideshow": {
     "slide_type": "fragment"
    }
   },
   "source": [
    "In addition, the logistic function is available in SciPy's special module:"
   ]
  },
  {
   "cell_type": "code",
   "execution_count": 9,
   "metadata": {
    "slideshow": {
     "slide_type": "fragment"
    }
   },
   "outputs": [],
   "source": [
    "from scipy.special import expit\n",
    "log_act = expit(z)"
   ]
  },
  {
   "cell_type": "markdown",
   "metadata": {
    "slideshow": {
     "slide_type": "slide"
    }
   },
   "source": [
    "### Rectified linear unit activation"
   ]
  },
  {
   "cell_type": "markdown",
   "metadata": {},
   "source": [
    "* ``tanh`` and ``logistic`` activations suffer from **vanishing gradient problem**\n",
    "* This means the **derivative of activations** with respect to net input **diminishes** as $z$ becomes large\n",
    "* As a result, **learning weights during the training phase** become **very slow** because the gradient terms may be **very close to zero**\n",
    "* ReLU activation addresses this issue"
   ]
  },
  {
   "cell_type": "markdown",
   "metadata": {
    "slideshow": {
     "slide_type": "slide"
    }
   },
   "source": [
    "Mathematically, ReLU is defined as follows:"
   ]
  },
  {
   "cell_type": "markdown",
   "metadata": {},
   "source": [
    "<img src=\"./images/relu.png\" width=\"400\"/>"
   ]
  },
  {
   "cell_type": "markdown",
   "metadata": {},
   "source": [
    "* ReLU is still a nonlinear function that is good for learning complex functions with neural networks\n",
    "* Besides this, the derivative of ReLU, with respect to its input, is always 1 for positive input values\n",
    "* Therefore, it **solves** the problem of vanishing gradients, making it **suitable for deep neural networks**"
   ]
  },
  {
   "cell_type": "markdown",
   "metadata": {
    "slideshow": {
     "slide_type": "slide"
    }
   },
   "source": [
    "## Vanishing gradient problem"
   ]
  },
  {
   "cell_type": "markdown",
   "metadata": {},
   "source": [
    "* backpropagation worked well with relatively shallow networks (one or two layers of hidden units (1980s)\n",
    "* but that as the networks got deeper, the networks either \n",
    "    - took an inordinate amount of time to train, or \n",
    "    - else they entirely failed to converge on a good set of weights"
   ]
  },
  {
   "cell_type": "markdown",
   "metadata": {
    "slideshow": {
     "slide_type": "slide"
    }
   },
   "source": [
    "<img src=\"./images/fig_07_11b.jpg\" width=800/>"
   ]
  },
  {
   "cell_type": "markdown",
   "metadata": {
    "slideshow": {
     "slide_type": "slide"
    }
   },
   "source": [
    "* Use of backpropagation to update weights **across many** layers \n",
    "    * this leads to vanishing gradient problem\n",
    "    * root of the problem: the gradient of a given layer is the **product** of gradients at **previous** layers"
   ]
  },
  {
   "cell_type": "markdown",
   "metadata": {
    "slideshow": {
     "slide_type": "slide"
    }
   },
   "source": [
    "**Chain rule leading to vanishing gradient problem** (1)\n",
    "\n",
    "* Fundamentally, the backpropagation algorithm is an implementation of the chain rule from calculus\n",
    "* The chain rule involves the multiplication of terms\n",
    "* Backpropagating an error from one neuron back to another can involve multiplying the error by a number terms with values less than 1\n",
    "* These multiplications by values less than 1 happen repeatedly as the error signal gets passed back through the network\n",
    "* This results in the error signal becoming smaller and smaller as it is backpropagated through the network\n",
    "* Indeed, the error signal often diminishes exponentially with respect to the distance from the output layer\n",
    "* The effect of this diminishing error: the weights in the early layers of a deep network are often adjusted by only a tiny (or zero) amount during each training iteration\n",
    "* In other words: the early layers \n",
    "    - either train very, very slowly \n",
    "    - or do not move away from their random starting positions at all"
   ]
  },
  {
   "cell_type": "markdown",
   "metadata": {
    "slideshow": {
     "slide_type": "slide"
    }
   },
   "source": [
    "**Chain rule leading to vanishing gradient problem** (2)\n",
    "\n",
    "* However, the early layers in a neural network are vitally important to the success of the network\n",
    "* It is the neurons in these layers that learn to detect the features in the input\n",
    "* Later layers of the network use detected features as the fundamental building blocks of the representations \n",
    "* These building blocks ultimately determine the output of the network\n",
    "* The error signal that is backpropagated through the network is in fact the gradient of the error of the network\n",
    "* --> this problem of the error signal rapidly diminishing to near zero is known as the vanishing gradient problem"
   ]
  },
  {
   "cell_type": "markdown",
   "metadata": {
    "slideshow": {
     "slide_type": "slide"
    }
   },
   "source": [
    "Computation of error in hidden layer"
   ]
  },
  {
   "cell_type": "markdown",
   "metadata": {
    "slideshow": {
     "slide_type": "-"
    }
   },
   "source": [
    "<img src=\"./images/fig_07_11c.png\" width=600/>"
   ]
  },
  {
   "cell_type": "markdown",
   "metadata": {
    "slideshow": {
     "slide_type": "slide"
    }
   },
   "source": [
    "Compuation of gradients for updating weights of hidden layer"
   ]
  },
  {
   "cell_type": "markdown",
   "metadata": {},
   "source": [
    "<img src=\"./images/fig_07_11cc.png\" width=500/>"
   ]
  },
  {
   "cell_type": "markdown",
   "metadata": {
    "slideshow": {
     "slide_type": "slide"
    }
   },
   "source": [
    "#### The sigmoid activation function and its derivative"
   ]
  },
  {
   "cell_type": "markdown",
   "metadata": {
    "slideshow": {
     "slide_type": "-"
    }
   },
   "source": [
    "<img src=\"./images/fig_07_11d.jpg\" width=600/>"
   ]
  },
  {
   "cell_type": "markdown",
   "metadata": {
    "slideshow": {
     "slide_type": "slide"
    }
   },
   "source": [
    "Problem with sigmoid function as activation function\n",
    "\n",
    "* The derivative becomes very small for large positive $z$ and large negative $z$\n",
    "* Derivative largest at $0.25$ for $z = 0$ (small value in itself)"
   ]
  },
  {
   "cell_type": "markdown",
   "metadata": {
    "slideshow": {
     "slide_type": "slide"
    }
   },
   "source": [
    "#### The hyperbolic tangent activation function and its derivative"
   ]
  },
  {
   "cell_type": "markdown",
   "metadata": {
    "slideshow": {
     "slide_type": "-"
    }
   },
   "source": [
    "<img src=\"./images/fig_07_11e.jpeg\" width=600/>"
   ]
  },
  {
   "cell_type": "markdown",
   "metadata": {
    "slideshow": {
     "slide_type": "slide"
    }
   },
   "source": [
    "Problem with hyperbolic tanget function as activation function\n",
    "\n",
    "* The derivative becomes very small for large positive $z$ and large negative $z$\n",
    "* At least, derivative around $z = 0$ higher than for sigmoid activation function (maximum 1)\n",
    "* ==> Vanishing gradient problem still present, but maybe somewhat less severe than with sigmoid\n",
    "* Consequences\n",
    "    * same as for sigmoid activation function"
   ]
  },
  {
   "cell_type": "markdown",
   "metadata": {
    "slideshow": {
     "slide_type": "slide"
    }
   },
   "source": [
    "* Use of backpropagation to update weights **across many** layers \n",
    "    * ==> gradients for first layers may become very small (multiplication of many values < 1 for derivative of sigmoid and hyperbolic tanget activation functions) \n",
    "* Consequences\n",
    "    * long training times\n",
    "    * ==> weights of first layers change very little to not at all (many epochs needed to update weights)\n",
    "    * ==> in practice, only weights of last layers will be updated\n",
    "    * poor performance (poor learning performance of first layer influences learning of following layers)\n",
    "    * ==> learning of last layers depend on what first layers learn"
   ]
  },
  {
   "cell_type": "markdown",
   "metadata": {
    "slideshow": {
     "slide_type": "slide"
    }
   },
   "source": [
    "## Loss function: Cross entropy"
   ]
  },
  {
   "cell_type": "markdown",
   "metadata": {
    "slideshow": {
     "slide_type": "-"
    }
   },
   "source": [
    "* Cross entropy loss, or log loss, measures the **performance of a classification model** whose output represents a **probability**, that is, a value between 0 and 1. \n",
    "* Cross entropy loss **increases** as the predicted probability **diverges** from the actual label. So predicting a probability of for example .017 when the actual observation label is 1 would result in a **high** loss value. \n",
    "* A perfect model would have a log loss of 0. \n",
    "\n"
   ]
  },
  {
   "cell_type": "markdown",
   "metadata": {
    "slideshow": {
     "slide_type": "fragment"
    }
   },
   "source": [
    "**Choice of cross entropy in Keras**\n",
    "\n",
    "* Binary classification problems: use binary cross entropy (``binary_crossentropy`` in Keras)\n",
    "* Multi-class classification problems: use categorical cross entropy (``categorical_crossentropy`` in Keras)"
   ]
  },
  {
   "cell_type": "markdown",
   "metadata": {
    "slideshow": {
     "slide_type": "slide"
    }
   },
   "source": [
    "### Binary cross entropy"
   ]
  },
  {
   "cell_type": "markdown",
   "metadata": {},
   "source": [
    "<img src=\"./images/binary_logloss.png\" width=\"700\"/>"
   ]
  },
  {
   "cell_type": "code",
   "execution_count": 10,
   "metadata": {
    "slideshow": {
     "slide_type": "slide"
    }
   },
   "outputs": [
    {
     "data": {
      "text/plain": [
       "Text(0, 0.5, 'log loss')"
      ]
     },
     "execution_count": 10,
     "metadata": {},
     "output_type": "execute_result"
    },
    {
     "data": {
      "image/png": "[encoded data removed]",
      "text/plain": [
       "<Figure size 432x288 with 1 Axes>"
      ]
     },
     "metadata": {
      "needs_background": "light"
     },
     "output_type": "display_data"
    }
   ],
   "source": [
    "# Import modules\n",
    "import numpy as np\n",
    "import math as m\n",
    "import matplotlib.pyplot as plt\n",
    "%matplotlib inline\n",
    "\n",
    "\n",
    "# Define binary cross entropy\n",
    "def binary_crossEntropy(yHat, y):\n",
    "    term_1 = y * m.log(yHat)#; print(term_1)\n",
    "    term_2 = (1 - y) * m.log(1 - yHat)#; print(term_2)\n",
    "    \n",
    "    return -(term_1 + term_2)\n",
    "\n",
    "# Get values between 0 and 1 representing probabilities for which\n",
    "# we will compute log loss for\n",
    "values = np.linspace(0.001, .999, 999)\n",
    "\n",
    "# Compute log losses\n",
    "logloss = []\n",
    "for val in values:\n",
    "    logloss.append(binary_crossEntropy(val, 1))\n",
    "\n",
    "# Plot log loss, given that true class label is 1\n",
    "plt.plot(values, logloss, '.')\n",
    "plt.title(\"log loss when true class label = 1\")\n",
    "plt.xlabel(\"predicted probablility\")\n",
    "plt.ylabel(\"log loss\")"
   ]
  },
  {
   "cell_type": "markdown",
   "metadata": {
    "slideshow": {
     "slide_type": "slide"
    }
   },
   "source": [
    "### Categorical cross entropy"
   ]
  },
  {
   "cell_type": "markdown",
   "metadata": {},
   "source": [
    "<img src=\"./images/categorical_logloss.png\" width=\"600\"/>"
   ]
  },
  {
   "cell_type": "markdown",
   "metadata": {
    "slideshow": {
     "slide_type": "slide"
    }
   },
   "source": [
    "<img src=\"./images/cross_entropy.png\" width=\"900\"/>"
   ]
  },
  {
   "cell_type": "code",
   "execution_count": 6,
   "metadata": {
    "slideshow": {
     "slide_type": "slide"
    }
   },
   "outputs": [
    {
     "name": "stdout",
     "output_type": "stream",
     "text": [
      "0.10536051565782628\n"
     ]
    }
   ],
   "source": [
    "# Import modules\n",
    "import numpy as np\n",
    "\n",
    "# Define categorical cross entropy\n",
    "def categorical_crossEntropy(yHat, y):\n",
    "    return - np.sum(y * np.log(yHat))\n",
    "\n",
    "# Define some toy data\n",
    "y_pred = np.array([0.1, 0.9, 0.1])\n",
    "y = np.array([0, 1, 0])\n",
    "\n",
    "# Compute cross entropy\n",
    "ce = categorical_crossEntropy(y_pred, y)\n",
    "print(ce)"
   ]
  },
  {
   "cell_type": "markdown",
   "metadata": {},
   "source": [
    "<img src=\"./images/categorical_logloss.png\" width=\"600\"/>"
   ]
  },
  {
   "cell_type": "markdown",
   "metadata": {},
   "source": [
    "### Summary of Differences for Cross entropy:\n",
    "- **Binary Classification**:\n",
    "  - Two classes (0 or 1).\n",
    "  - One predicted probability for class 1.\n",
    "  - Loss is calculated for this single probability.\n",
    "\n",
    "- **Multiclass Classification**:\n",
    "  - More than two classes.\n",
    "  - Multiple predicted probabilities (one for each class).\n",
    "  - Loss is calculated over all classes, penalizing the model for the true class."
   ]
  },
  {
   "cell_type": "markdown",
   "metadata": {
    "slideshow": {
     "slide_type": "slide"
    }
   },
   "source": [
    "## Summary"
   ]
  },
  {
   "cell_type": "markdown",
   "metadata": {},
   "source": [
    "Things you have learned in this series of lectures"
   ]
  },
  {
   "cell_type": "markdown",
   "metadata": {},
   "source": [
    "* Overview over different deep learning tools in using Python\n",
    "* Basic anatomy/architecture of ANN\n",
    "* How to build and train models for \n",
    "    * binary and multiclass classification\n",
    "    * regression with few samples using KFold cross validation\n",
    "* Choose appropriate activation functions for specific problems\n",
    "* Basic preprocessing of text data\n",
    "* Regularisation methods for ANN"
   ]
  }
 ],
 "metadata": {
  "anaconda-cloud": {},
  "celltoolbar": "Slideshow",
  "jupytext": {
   "formats": "ipynb,py"
  },
  "kernelspec": {
   "display_name": "Python 3",
   "language": "python",
   "name": "python3"
  },
  "language_info": {
   "codemirror_mode": {
    "name": "ipython",
    "version": 3
   },
   "file_extension": ".py",
   "mimetype": "text/x-python",
   "name": "python",
   "nbconvert_exporter": "python",
   "pygments_lexer": "ipython3",
   "version": "3.12.3"
  },
  "nbpresent": {
   "slides": {
    "e1bcc92f-87ee-4cda-abb3-a53c55aa7d3b": {
     "id": "e1bcc92f-87ee-4cda-abb3-a53c55aa7d3b",
     "layout": "manual",
     "prev": null,
     "regions": {
      "20704684-44d7-4469-9fff-2966e85ae769": {
       "attrs": {
        "height": 0.8333333333333334,
        "pad": 0.01,
        "width": 0.8333333333333333,
        "x": 0.07091973498809348,
        "y": 0.09314162519826254
       },
       "id": "20704684-44d7-4469-9fff-2966e85ae769"
      },
      "8cdfe229-1ced-4a84-968c-11f4bdfb2807": {
       "attrs": {
        "height": 1,
        "pad": 0.01,
        "treemap:weight": 1,
        "width": 1,
        "x": 0,
        "y": 0
       },
       "id": "8cdfe229-1ced-4a84-968c-11f4bdfb2807"
      }
     }
    }
   },
   "themes": {}
  },
  "toc": {
   "base_numbering": 1,
   "nav_menu": {},
   "number_sections": true,
   "sideBar": true,
   "skip_h1_title": false,
   "title_cell": "Table of Contents",
   "title_sidebar": "Contents",
   "toc_cell": false,
   "toc_position": {},
   "toc_section_display": true,
   "toc_window_display": false
  },
  "varInspector": {
   "cols": {
    "lenName": 16,
    "lenType": 16,
    "lenVar": 40
   },
   "kernels_config": {
    "python": {
     "delete_cmd_postfix": "",
     "delete_cmd_prefix": "del ",
     "library": "var_list.py",
     "varRefreshCmd": "print(var_dic_list())"
    },
    "r": {
     "delete_cmd_postfix": ") ",
     "delete_cmd_prefix": "rm(",
     "library": "var_list.r",
     "varRefreshCmd": "cat(var_dic_list()) "
    }
   },
   "types_to_exclude": [
    "module",
    "function",
    "builtin_function_or_method",
    "instance",
    "_Feature"
   ],
   "window_display": false
  }
 },
 "nbformat": 4,
 "nbformat_minor": 4
}
