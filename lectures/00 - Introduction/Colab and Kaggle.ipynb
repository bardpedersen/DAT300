{
 "cells": [
  {
   "cell_type": "markdown",
   "metadata": {
    "slideshow": {
     "slide_type": "slide"
    }
   },
   "source": [
    "# Google Colaboratory\n",
    "### Free$^+$ Jupyter notebook$^*$ with cloud computation and Google Drive integration$\\dagger$\n",
    "<img src=\"./images/CO.png\" alt=\"CO\"/>  \n",
    "### https://colab.research.google.com  \n",
    "\n",
    "$^+$ Up to around 12 hours continuous computations a day. Fresh session, start from scratch.  \n",
    "\\* Mostly the same, some extensions, some limitations.  \n",
    "$\\dagger$ Requires setup, not extremely quick. Faster interaction with Google Cloud Storage."
   ]
  },
  {
   "cell_type": "markdown",
   "metadata": {
    "slideshow": {
     "slide_type": "slide"
    }
   },
   "source": [
    "# Why \"Colab\"?\n",
    "\n",
    "- Nice interface\n",
    "- Easy to install and run Linux and Python packages\n",
    "- Has load of stuff already installed\n",
    "    - For instance XGBoost, TensorFlow, Keras, ...\n",
    "- Move workload off your computer\n",
    "    - Ageing laptop?\n",
    "    - Long running computations?\n",
    "- GPU support: Tesla K80/T4 (<=2.5 TFLOPS)\n",
    "<img src=\"./images/K80.jpg\" alt=\"K80\"/>"
   ]
  },
  {
   "cell_type": "markdown",
   "metadata": {
    "slideshow": {
     "slide_type": "slide"
    }
   },
   "source": [
    "# Data files on Colab\n",
    "- Upload files from desktop or Google Drive\n",
    "- Direct file access on Google Drive is slow for large files\n",
    "    - Network connection to different servers\n",
    "    - Various ways of uploading files in API"
   ]
  },
  {
   "cell_type": "markdown",
   "metadata": {
    "slideshow": {
     "slide_type": "slide"
    }
   },
   "source": [
    "# Kaggle integration\n",
    "- Datasets download\n",
    "- Competition submission\n",
    "- https://github.com/Kaggle/kaggle-api\n",
    "- https://medium.com/@move37timm/using-kaggle-api-for-google-colaboratory-d18645f93648\n",
    "- DAT300's 'System stuff.ipynb'\n",
    "- Kaggle can also be used directly with Jupyter Notebooks\n",
    "    - A little more RAM than Colab"
   ]
  },
  {
   "cell_type": "markdown",
   "metadata": {},
   "source": [
    "# Comparing Kaggle and Google Colab\n",
    "\n",
    "## Overview\n",
    "- **Kaggle** and **Google Colab** are popular platforms for data science and machine learning.\n",
    "- Both provide cloud-based Jupyter notebooks but differ in features, integrations, and usage.\n",
    "\n",
    "---\n",
    "\n",
    "## Kaggle: Key Features\n",
    "\n",
    "- **Integrated Datasets**: Direct access to a wide variety of public datasets.\n",
    "- **Competitions**: Platform for data science competitions, fostering community and learning.\n",
    "- **Kernels**: Kaggle's version of Jupyter notebooks, with easy sharing and collaboration.\n",
    "- **GPU/TPU Support**: Free access to limited GPU/TPU resources.\n",
    "- **Community and Learning**: Extensive community forums and educational resources (Kaggle Learn).\n",
    "\n",
    "### Pros:\n",
    "- Access to datasets and competitions in one platform.\n",
    "- Strong community support.\n",
    "- Automatic versioning and reproducibility of notebooks (Kernels).\n",
    "\n",
    "### Cons:\n",
    "- Limited compute power (restricted GPU/TPU usage).\n",
    "- Not ideal for large-scale model training.\n",
    "\n",
    "---\n",
    "\n",
    "## Google Colab: Key Features\n",
    "\n",
    "- **Free Cloud Notebooks**: Jupyter notebooks hosted in the cloud, easily accessible.\n",
    "- **GPU/TPU Access**: Free access to powerful GPUs/TPUs (with usage limits).\n",
    "- **Google Drive Integration**: Seamless integration with Google Drive for data storage.\n",
    "- **Python Environment**: Pre-installed popular libraries for data science and machine learning.\n",
    "- **Collaborative Editing**: Real-time collaboration, similar to Google Docs.\n",
    "\n",
    "### Pros:\n",
    "- Higher compute power compared to Kaggle.\n",
    "- Great for prototyping and running experiments with free GPUs/TPUs.\n",
    "- Easy integration with Google services and cloud storage.\n",
    "\n",
    "### Cons:\n",
    "- No direct competition integration.\n",
    "- Datasets need to be manually uploaded or accessed via Google Drive.\n",
    "- Less structured learning resources compared to Kaggle.\n",
    "\n",
    "---\n",
    "\n",
    "## Ideal Use Cases\n",
    "\n",
    "### Kaggle\n",
    "- Participating in data science competitions.\n",
    "- Exploring and using public datasets.\n",
    "- Learning data science with guided tutorials and community support.\n",
    "\n",
    "### Google Colab\n",
    "- Prototyping machine learning models with GPU/TPU acceleration.\n",
    "- Quick experiments and sharing notebooks.\n",
    "- Projects that require integration with Google Drive or other Google services.\n",
    "\n"
   ]
  },
  {
   "cell_type": "markdown",
   "metadata": {
    "slideshow": {
     "slide_type": "slide"
    }
   },
   "source": [
    "# AI Hub\n",
    "- Community examples of Machine Learning and many other resources, some directly opening with Colab\n",
    "- https://aihub.cloud.google.com/\n",
    "<img src=\"./images/AIHub.svg\" alt=\"Google AI Hub\" style=\"width: 150px;\"/>"
   ]
  },
  {
   "cell_type": "markdown",
   "metadata": {
    "slideshow": {
     "slide_type": "slide"
    }
   },
   "source": [
    "# OpenML\n",
    "- \\> 20 000 data sets\n",
    "- Workflows / data analysis flows\n",
    "- Comparison of ML methods on data sets, e.g. check expected performance\n",
    "- Download, analyse, upload for free\n",
    "- https://openml.org\n",
    "<img src=\"./images/OpenML.png\" alt=\"OpenML\"/>"
   ]
  }
 ],
 "metadata": {
  "anaconda-cloud": {},
  "celltoolbar": "Slideshow",
  "jupytext": {
   "cell_metadata_json": true,
   "formats": "ipynb,py"
  },
  "kernelspec": {
   "display_name": "Python 3",
   "language": "python",
   "name": "python3"
  },
  "language_info": {
   "codemirror_mode": {
    "name": "ipython",
    "version": 3
   },
   "file_extension": ".py",
   "mimetype": "text/x-python",
   "name": "python",
   "nbconvert_exporter": "python",
   "pygments_lexer": "ipython3",
   "version": "3.12.1"
  },
  "varInspector": {
   "cols": {
    "lenName": 16,
    "lenType": 16,
    "lenVar": 40
   },
   "kernels_config": {
    "python": {
     "delete_cmd_postfix": "",
     "delete_cmd_prefix": "del ",
     "library": "var_list.py",
     "varRefreshCmd": "print(var_dic_list())"
    },
    "r": {
     "delete_cmd_postfix": ") ",
     "delete_cmd_prefix": "rm(",
     "library": "var_list.r",
     "varRefreshCmd": "cat(var_dic_list()) "
    }
   },
   "types_to_exclude": [
    "module",
    "function",
    "builtin_function_or_method",
    "instance",
    "_Feature"
   ],
   "window_display": false
  }
 },
 "nbformat": 4,
 "nbformat_minor": 4
}
