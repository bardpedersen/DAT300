{
 "cells": [
  {
   "cell_type": "markdown",
   "metadata": {
    "slideshow": {
     "slide_type": "slide"
    }
   },
   "source": [
    "# DAT300"
   ]
  },
  {
   "cell_type": "markdown",
   "metadata": {
    "slideshow": {
     "slide_type": "-"
    }
   },
   "source": [
    "<center><img src=\"./images/DAT300-image.jpg\" alt=\"DAT300\" style=\"width: 720px;\"/></center>"
   ]
  },
  {
   "cell_type": "markdown",
   "metadata": {
    "slideshow": {
     "slide_type": "slide"
    }
   },
   "source": [
    "#  Assoc. Prof. Dr. techn. habil Fadi Al Machot\n",
    "\n",
    " Fadi Al Machot \n",
    " <img src=\"./images/fadi22.png\" alt=\"Fadi\" style=\"height: 220px;\"/>    \n",
    "    \n",
    "- Associate Professor in Data Science.\n",
    "- Habilitation in Applied Computer Science from the University of Lübeck, Germany\n",
    "- Doctorate in Computer Science from the University of Klagenfurt, Austria\n",
    "- Diplom in Computer Science from the University of Potsdam, Germany\n",
    "- Author and co-author of over 70 scientific (peer-reviewed) publications"
   ]
  },
  {
   "cell_type": "markdown",
   "metadata": {
    "slideshow": {
     "slide_type": "slide"
    }
   },
   "source": [
    "# The assistants\n",
    "\n",
    "- Yohann Jacob Sandvik\n",
    "- William Heyden\n",
    "- Odin Landa\n",
    "- Ole Benjamin Gauslaa\n",
    "- Katarzyna Haland\n",
    "- Bjørn Eirik Rognskog Nordbak"
   ]
  },
  {
   "cell_type": "markdown",
   "metadata": {
    "slideshow": {
     "slide_type": "slide"
    }
   },
   "source": [
    "## Resources\n",
    "- Canvas: https://nmbu.instructure.com/courses/11184\n",
    "  - Information hub\n",
    "  - Compulsory assignments\n",
    "  - Course materials\n",
    "- Google Colaboratory: https://colab.research.google.com  \n",
    "  - Online processing (please register)\n",
    "- Kaggle: https://www.kaggle.com/\n",
    "  - Compulsory assignments, competitions and solutions (please register)"
   ]
  },
  {
   "cell_type": "markdown",
   "metadata": {
    "slideshow": {
     "slide_type": "slide"
    }
   },
   "source": [
    "## Tools\n",
    "- Python 3.7+: https://www.anaconda.com/\n",
    "- Keras: https://keras.io/\n",
    "  - Deep learning interface to Tensorflow et al.\n",
    "- Jupytext: https://towardsdatascience.com/introducing-jupytext-9234fdff6c57\n",
    "  - Jupyter Notebook extension for dual editing - Python code and Jupyter Notebook\n",
    "- RISE slideshow: https://github.com/damianavila/RISE\n",
    "  - Jupyter Notebook extension for presentation mode!\n",
    "  \n",
    "- Optional: Python Notebook Viewer for FireFox browser\n"
   ]
  },
  {
   "cell_type": "markdown",
   "metadata": {
    "slideshow": {
     "slide_type": "slide"
    }
   },
   "source": [
    "## Litterature\n",
    "<img src=\"./images/Raschka.jpg\" alt=\"Python Machine Learning\" style=\"width: 200px;\"/>  \n",
    "- Python Machine Learning, 3rd edition, By Raschka & Mirjalili  \n",
    "<a href=\"https://www.akademika.no/python-machine-learning-third-edition/raschka-sebastian/mirjalili-vahid/9781789955750\">Link1</a>\n",
    "    - or \n",
    "<a href=\"https://www.packtpub.com/product/python-machine-learning-third-edition/9781789955750\">Link2</a>\n",
    "    - Material from Deep learning with Python, By :\n",
    "<a href=\"https://www.manning.com/books/deep-learning-with-python-second-edition\">Chollet</a>\n",
    "\n",
    "- Bits and pieces from articles, bloggs, etc."
   ]
  },
  {
   "cell_type": "markdown",
   "metadata": {
    "slideshow": {
     "slide_type": "slide"
    }
   },
   "source": [
    "## Lectures\n",
    "- First lecture: Thursday, September 7th \n",
    "- Exercise groups will start the week after\n",
    "- Mondays: TF1-102 (12:15 - 14:00)\n",
    "- Thursdays: TF1-102 (10:15 - 12:00)"
   ]
  },
  {
   "cell_type": "markdown",
   "metadata": {
    "slideshow": {
     "slide_type": "slide"
    }
   },
   "source": [
    "## Lectures\n",
    "- Full recording/streaming\n",
    "- Mainly based on Jupyter Notebooks\n",
    "    - Run locally, on Google Colab or on Kaggle\n",
    "    - Mostly uploaded in the hours before lectures\n",
    "    - Recommended to run in parallel on/through your own computers\n"
   ]
  },
  {
   "cell_type": "markdown",
   "metadata": {
    "slideshow": {
     "slide_type": "slide"
    }
   },
   "source": [
    "### Exercise groups\n",
    "\n",
    "- Exercise sessions will be in:\n",
    "    - S124  - TUE - 14:15 - 16:00\n",
    "    - S121 - TUE - 16:15 - 18:00  \n",
    "    - S124  -  WED -  14:15 - 16:00\n",
    "- Register for a time slot before attending!"
   ]
  },
  {
   "cell_type": "markdown",
   "metadata": {
    "slideshow": {
     "slide_type": "slide"
    }
   },
   "source": [
    "### Exam\n",
    "- The exam will take place on campus. \n",
    "- The exam will be carried out on Wiseflow\n",
    "- The level of permissible aids will be A1: no calculator, no other aids"
   ]
  },
  {
   "cell_type": "markdown",
   "metadata": {
    "slideshow": {
     "slide_type": "slide"
    }
   },
   "source": [
    "### Compulsories\n",
    "- Group work\n",
    "    - Three students per group, registered in Canvas before the start of the first compulsory.\n",
    "    - The deadline for forming groups is September 15 - 2024\n",
    "    - Fill your groups quickly if you have decided on members. \n",
    "      - Anyone can register to a group that is not filled.\n",
    "      - At the start of the compulsory, non-assigned students will be added to groups without prior notice.\n",
    "    - One hand-in per group.\n",
    "-     1 voluntary + 4 compulsory assignments. The first assignment is voluntary. CA1 focuses on Artificial Neural Networks (ANN), CA2 explores Convolutional Neural Networks (CNN), CA3 is centered on Semantic Segmentation, and CA4 delves into Variational Autoencoders (VAE)\n",
    "- Evaluated by TAs.\n",
    "- Short deadlines for re-submissions.\n",
    "- Prerequisite for getting a grade at the exam."
   ]
  },
  {
   "cell_type": "markdown",
   "metadata": {
    "slideshow": {
     "slide_type": "slide"
    }
   },
   "source": [
    "## Expected student background\n",
    "### Programming (e.g. INF120 + INF200), Statistics (e.g. MATH-INF110/STAT100), Linear algebra (e.g. MATH113/MATH131)"
   ]
  },
  {
   "cell_type": "markdown",
   "metadata": {
    "slideshow": {
     "slide_type": "slide"
    }
   },
   "source": [
    "### Machine Learning (e.g. DAT200)\n",
    "Python Machine Learning, Sebastian Raschka and Vahid Mirjalili, Packt Publishing\n",
    "- Chapter 1 – Giving Computers the Ability to Lear from Data \n",
    "- Chapter 2 – Training Simple Machine Learning Algorithms for Classification\n",
    "- Chapter 3 – A Tour of Machine Learning Classifiers\n",
    "- Chapter 4 – Building Good Training Sets – Data Processing\n",
    "- Chapter 5 – Compressing Data via Dimensionality Reduction\n",
    "- Chapter 6 – Learning Best Practices for Model Evaluation and Hyperparamter Tuning \n",
    "- Chapter 7 – Combining Different Models for Ensemble Learning\n",
    "- Chapter 10 – Predicting Continous Target Variables with Regression Analysis\n",
    "- Chapter 11 – Working with unlabelled data – Clustering Analysis"
   ]
  },
  {
   "cell_type": "markdown",
   "metadata": {
    "slideshow": {
     "slide_type": "slide"
    }
   },
   "source": [
    "<img src=\"./images/expected.png\" \n",
    "     align=\"left\" \n",
    "     width=\"1000\" />\n"
   ]
  },
  {
   "cell_type": "markdown",
   "metadata": {
    "slideshow": {
     "slide_type": "slide"
    }
   },
   "source": [
    "<img src=\"./images/What.png\" \n",
    "     align=\"left\" \n",
    "     width=\"1000\" />\n"
   ]
  },
  {
   "cell_type": "markdown",
   "metadata": {},
   "source": [
    "# Brief History of Artificial Neural Networks (ANNs)\n",
    "\n",
    "## 1940s-1950s: Origins\n",
    "- **1943:** McCulloch-Pitts Neuron – First mathematical model of a neural network.\n",
    "- **1958:** Perceptron – Developed by Frank Rosenblatt for simple classification tasks.\n",
    "\n",
    "## 1980s: Revival\n",
    "- Development of **Multilayer Perceptrons** and **Backpropagation** for training deep networks reignited interest.\n",
    "\n",
    "## 1990s: Expansion\n",
    "- Wider application in areas like speech and image recognition, despite computational limitations.\n",
    "\n",
    "## 2000s-2010s: Deep Learning Era\n",
    "- **2006:** Deep Belief Networks (Hinton et al.) introduced the way for deeper models.\n",
    "- **2012:** AlexNet wins ImageNet, showcasing the power of deep learning.\n",
    "\n",
    "## 2020s: Modern Advances\n",
    "- Widespread use in NLP, computer vision, healthcare, and autonomous systems.\n",
    "- Innovations like **Transformers** continue to push boundaries.\n"
   ]
  },
  {
   "cell_type": "markdown",
   "metadata": {},
   "source": [
    "## What is a Neuron?\n",
    "- **Basic unit of the brain** and nervous system.\n",
    "- Responsible for **receiving, processing, and transmitting** information.\n",
    "- Consists of three main parts: **Dendrites, Cell Body, Axon**."
   ]
  },
  {
   "cell_type": "markdown",
   "metadata": {},
   "source": [
    "## Structure of a Neuron\n",
    "\n",
    "### 1. Dendrites\n",
    "- **Branch-like extensions** from the cell body.\n",
    "- **Receive signals** (electrical impulses) from other neurons.\n",
    "- Function like **antennae** picking up incoming signals.\n",
    "\n",
    "### 2. Cell Body (Soma)\n",
    "- Contains the **nucleus** and other organelles.\n",
    "- Integrates incoming signals from dendrites.\n",
    "- Generates an **electrical impulse** if the signal is strong enough.\n",
    "\n",
    "### 3. Axon\n",
    "- **Long, thread-like extension** from the cell body.\n",
    "- **Transmits electrical impulses** away from the cell body to other neurons or muscles.\n",
    "- Ends in **axon terminals**, which release neurotransmitters to communicate with other cells.\n"
   ]
  },
  {
   "cell_type": "markdown",
   "metadata": {
    "slideshow": {
     "slide_type": "slide"
    }
   },
   "source": [
    "<img src=\"./images/ANN.png\" \n",
    "     align=\"left\" \n",
    "     width=\"1000\" />\n"
   ]
  },
  {
   "cell_type": "markdown",
   "metadata": {
    "slideshow": {
     "slide_type": "slide"
    }
   },
   "source": [
    "<img src=\"./images/ANN2.png\" \n",
    "     align=\"left\" \n",
    "     width=\"1000\" />\n"
   ]
  },
  {
   "cell_type": "markdown",
   "metadata": {
    "slideshow": {
     "slide_type": "slide"
    }
   },
   "source": [
    "<img src=\"./images/chapters.png\" \n",
    "     align=\"left\" \n",
    "     width=\"1000\" />\n"
   ]
  }
 ],
 "metadata": {
  "celltoolbar": "Slideshow",
  "jupytext": {
   "cell_metadata_json": true,
   "encoding": "# -*- coding: utf-8 -*-",
   "formats": "ipynb,py"
  },
  "kernelspec": {
   "display_name": "Python 3",
   "language": "python",
   "name": "python3"
  },
  "language_info": {
   "codemirror_mode": {
    "name": "ipython",
    "version": 3
   },
   "file_extension": ".py",
   "mimetype": "text/x-python",
   "name": "python",
   "nbconvert_exporter": "python",
   "pygments_lexer": "ipython3",
   "version": "3.12.4"
  },
  "varInspector": {
   "cols": {
    "lenName": 16,
    "lenType": 16,
    "lenVar": 40
   },
   "kernels_config": {
    "python": {
     "delete_cmd_postfix": "",
     "delete_cmd_prefix": "del ",
     "library": "var_list.py",
     "varRefreshCmd": "print(var_dic_list())"
    },
    "r": {
     "delete_cmd_postfix": ") ",
     "delete_cmd_prefix": "rm(",
     "library": "var_list.r",
     "varRefreshCmd": "cat(var_dic_list()) "
    }
   },
   "types_to_exclude": [
    "module",
    "function",
    "builtin_function_or_method",
    "instance",
    "_Feature"
   ],
   "window_display": false
  }
 },
 "nbformat": 4,
 "nbformat_minor": 4
}
