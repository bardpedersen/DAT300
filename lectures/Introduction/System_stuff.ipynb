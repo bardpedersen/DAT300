{
 "cells": [
  {
   "cell_type": "markdown",
   "metadata": {
    "id": "9Bmv_XmzvjSW"
   },
   "source": [
    "# Google Drive connection"
   ]
  },
  {
   "cell_type": "code",
   "execution_count": null,
   "metadata": {
    "colab": {
     "base_uri": "https://localhost:8080/"
    },
    "id": "7gXu0sIfvjSX",
    "outputId": "47c84c6a-5e29-42b4-84b5-a9edb604548c"
   },
   "outputs": [
    {
     "ename": "",
     "evalue": "",
     "output_type": "error",
     "traceback": [
      "\u001b[1;31mRunning cells with 'Python 3.12.1' requires the ipykernel package.\n",
      "\u001b[1;31mRun the following command to install 'ipykernel' into the Python environment. \n",
      "\u001b[1;31mCommand: '/usr/local/bin/python3.12 -m pip install ipykernel -U --user --force-reinstall'"
     ]
    }
   ],
   "source": [
    "from google.colab import drive\n",
    "drive.mount('/content/drive')"
   ]
  },
  {
   "cell_type": "markdown",
   "metadata": {
    "id": "2GM1rCZrvjSa"
   },
   "source": [
    "### Complete Linux sandbox"
   ]
  },
  {
   "cell_type": "code",
   "execution_count": 2,
   "metadata": {
    "colab": {
     "base_uri": "https://localhost:8080/"
    },
    "id": "iWYfZlpYvjSa",
    "outputId": "943de93e-fd2c-43a1-d760-5b923b23e19c"
   },
   "outputs": [
    {
     "name": "stdout",
     "output_type": "stream",
     "text": [
      "/content\n",
      "drive  sample_data\n",
      "bin\t\t\t    datalab  kaggle  libx32\t\t       opt\t   run\t tmp\n",
      "boot\t\t\t    dev      lib     media\t\t       proc\t   sbin  tools\n",
      "content\t\t\t    etc      lib32   mnt\t\t       python-apt  srv\t usr\n",
      "cuda-keyring_1.0-1_all.deb  home     lib64   NGC-DL-CONTAINER-LICENSE  root\t   sys\t var\n"
     ]
    }
   ],
   "source": [
    "# Current directory\n",
    "!pwd\n",
    "# List contents\n",
    "!ls\n",
    "# Root\n",
    "!ls /\n",
    "# Home\n",
    "!ls ~/\n",
    "# Copy: cp, make directory: mkdir, ..."
   ]
  },
  {
   "cell_type": "code",
   "execution_count": 3,
   "metadata": {
    "colab": {
     "base_uri": "https://localhost:8080/"
    },
    "id": "XjC54C4xv_yX",
    "outputId": "4f757adf-0184-4a04-97a8-a4a9df2381dc"
   },
   "outputs": [
    {
     "name": "stdout",
     "output_type": "stream",
     "text": [
      "drive  sample_data\n"
     ]
    }
   ],
   "source": [
    "!ls /content/"
   ]
  },
  {
   "cell_type": "code",
   "execution_count": 4,
   "metadata": {
    "id": "1nbTeTUSwYDE"
   },
   "outputs": [],
   "source": [
    "!ls ~/"
   ]
  },
  {
   "cell_type": "markdown",
   "metadata": {
    "id": "oXh0VyE0vjSd"
   },
   "source": [
    "### Ready with Python, Tensorflow, Keras, ..."
   ]
  },
  {
   "cell_type": "code",
   "execution_count": 5,
   "metadata": {
    "colab": {
     "base_uri": "https://localhost:8080/"
    },
    "id": "q5Q2Bsl4vjSe",
    "outputId": "2cca1311-4431-4ec8-f6c8-21b59b58d5e4"
   },
   "outputs": [
    {
     "name": "stdout",
     "output_type": "stream",
     "text": [
      "Python 3.10.12\n"
     ]
    }
   ],
   "source": [
    "!python --version\n",
    "# import <tab>"
   ]
  },
  {
   "cell_type": "markdown",
   "metadata": {
    "id": "OGTFJpFuXijb"
   },
   "source": [
    "# Kaggle API\n",
    "### After downloading key from kaggle.com (My Account -> Create new API token) to Google Drive:\n",
    "Access Google Drive, copy kaggle.json to Colab and report progress.  \n",
    "Authentication of Google account is part of the process (once every session).\n",
    "This script automates the process of downloading the kaggle.json file (containing Kaggle API credentials) from Google Drive and saving it to a specified directory on a Google Colab instance. It includes authentication, file searching, downloading in chunks, and setting appropriate permissions. The script is essential for enabling the Kaggle API in Colab without manually uploading files."
   ]
  },
  {
   "cell_type": "code",
   "execution_count": 6,
   "metadata": {
    "colab": {
     "base_uri": "https://localhost:8080/"
    },
    "id": "hsrzPdK8lgWy",
    "outputId": "e41a11c8-b4a5-4bbc-e539-199f91113f43"
   },
   "outputs": [
    {
     "name": "stdout",
     "output_type": "stream",
     "text": [
      "Download 100%.\n"
     ]
    }
   ],
   "source": [
    "from googleapiclient.discovery import build\n",
    "import io, os\n",
    "from googleapiclient.http import MediaIoBaseDownload\n",
    "from google.colab import auth\n",
    "auth.authenticate_user()\n",
    "drive_service = build('drive', 'v3')\n",
    "results = drive_service.files().list(\n",
    "        q=\"name = 'kaggle.json'\", fields=\"files(id)\").execute()\n",
    "kaggle_api_key = results.get('files', [])\n",
    "filename = \"/.kaggle/kaggle.json\"\n",
    "os.makedirs(os.path.dirname(filename), exist_ok=True)\n",
    "request = drive_service.files().get_media(fileId=kaggle_api_key[0]['id'])\n",
    "fh = io.FileIO(filename, 'wb')\n",
    "downloader = MediaIoBaseDownload(fh, request)\n",
    "done = False\n",
    "while done is False:\n",
    "    status, done = downloader.next_chunk()\n",
    "    print(\"Download %d%%.\" % int(status.progress() * 100))\n",
    "os.chmod(filename, 600)"
   ]
  },
  {
   "cell_type": "code",
   "execution_count": null,
   "metadata": {
    "id": "LT8DgU0URsD2"
   },
   "outputs": [],
   "source": [
    "# Check existence of file\n",
    "!ls /.kaggle\n",
    "!cat /.kaggle/kaggle.json"
   ]
  },
  {
   "cell_type": "code",
   "execution_count": 8,
   "metadata": {
    "id": "X8puM6GN3URX"
   },
   "outputs": [],
   "source": [
    "# Notice the difference in path names with/without ~\n",
    "!mkdir -p ~/.kaggle\n",
    "!cp /.kaggle/kaggle.json ~/.kaggle/"
   ]
  },
  {
   "cell_type": "code",
   "execution_count": 9,
   "metadata": {
    "colab": {
     "base_uri": "https://localhost:8080/"
    },
    "id": "TUCym-uoP9tG",
    "outputId": "8d33eca6-a213-4c54-c2a0-1729c34d6bed"
   },
   "outputs": [
    {
     "name": "stdout",
     "output_type": "stream",
     "text": [
      "Requirement already satisfied: kaggle in /usr/local/lib/python3.10/dist-packages (1.6.17)\n",
      "Requirement already satisfied: six>=1.10 in /usr/local/lib/python3.10/dist-packages (from kaggle) (1.16.0)\n",
      "Requirement already satisfied: certifi>=2023.7.22 in /usr/local/lib/python3.10/dist-packages (from kaggle) (2024.7.4)\n",
      "Requirement already satisfied: python-dateutil in /usr/local/lib/python3.10/dist-packages (from kaggle) (2.8.2)\n",
      "Requirement already satisfied: requests in /usr/local/lib/python3.10/dist-packages (from kaggle) (2.32.3)\n",
      "Requirement already satisfied: tqdm in /usr/local/lib/python3.10/dist-packages (from kaggle) (4.66.5)\n",
      "Requirement already satisfied: python-slugify in /usr/local/lib/python3.10/dist-packages (from kaggle) (8.0.4)\n",
      "Requirement already satisfied: urllib3 in /usr/local/lib/python3.10/dist-packages (from kaggle) (2.0.7)\n",
      "Requirement already satisfied: bleach in /usr/local/lib/python3.10/dist-packages (from kaggle) (6.1.0)\n",
      "Requirement already satisfied: webencodings in /usr/local/lib/python3.10/dist-packages (from bleach->kaggle) (0.5.1)\n",
      "Requirement already satisfied: text-unidecode>=1.3 in /usr/local/lib/python3.10/dist-packages (from python-slugify->kaggle) (1.3)\n",
      "Requirement already satisfied: charset-normalizer<4,>=2 in /usr/local/lib/python3.10/dist-packages (from requests->kaggle) (3.3.2)\n",
      "Requirement already satisfied: idna<4,>=2.5 in /usr/local/lib/python3.10/dist-packages (from requests->kaggle) (3.8)\n"
     ]
    }
   ],
   "source": [
    "# Install Python part of kaggle\n",
    "!pip install kaggle"
   ]
  },
  {
   "cell_type": "markdown",
   "metadata": {
    "id": "GRVNQlw6n3Jo"
   },
   "source": [
    "### Check if connection is succesfull"
   ]
  },
  {
   "cell_type": "code",
   "execution_count": 11,
   "metadata": {
    "id": "ZqCISSdVSqSj"
   },
   "outputs": [],
   "source": [
    "# Create the .kaggle directory in the home directory if it doesn't exist\n",
    "!mkdir -p /root/.kaggle\n",
    "\n",
    "# Move the kaggle.json file to the correct location\n",
    "!mv /.kaggle/kaggle.json /root/.kaggle/kaggle.json\n",
    "\n",
    "# Set the correct permissions for the kaggle.json file\n",
    "!chmod 600 /root/.kaggle/kaggle.json\n"
   ]
  },
  {
   "cell_type": "markdown",
   "metadata": {
    "id": "pKDQL0qfoMrf"
   },
   "source": [
    "### Download MNIST-like fashion data from Zalando Research"
   ]
  },
  {
   "cell_type": "code",
   "execution_count": 14,
   "metadata": {
    "id": "lkKylNIXJDYf"
   },
   "outputs": [],
   "source": [
    "!mkdir /content/kaggle"
   ]
  },
  {
   "cell_type": "code",
   "execution_count": 15,
   "metadata": {
    "colab": {
     "base_uri": "https://localhost:8080/"
    },
    "id": "BDfYj2Cil4md",
    "outputId": "a0e7a991-0ec6-476c-f5d0-f593de528075"
   },
   "outputs": [
    {
     "name": "stdout",
     "output_type": "stream",
     "text": [
      "Dataset URL: https://www.kaggle.com/datasets/zalando-research/fashionmnist\n",
      "License(s): other\n",
      "Downloading fashionmnist.zip to /content/kaggle\n",
      " 99% 68.0M/68.8M [00:04<00:00, 19.8MB/s]\n",
      "100% 68.8M/68.8M [00:04<00:00, 14.5MB/s]\n"
     ]
    }
   ],
   "source": [
    "!kaggle datasets download -d zalando-research/fashionmnist -p /content/kaggle"
   ]
  },
  {
   "cell_type": "markdown",
   "metadata": {
    "id": "athbk7qNoZMy"
   },
   "source": [
    "See what you got"
   ]
  },
  {
   "cell_type": "code",
   "execution_count": 16,
   "metadata": {
    "colab": {
     "base_uri": "https://localhost:8080/"
    },
    "id": "mVzI-YyPnLtK",
    "outputId": "9f5400d4-d548-4390-eba4-68ee01800ffe"
   },
   "outputs": [
    {
     "name": "stdout",
     "output_type": "stream",
     "text": [
      "fashionmnist.zip\n"
     ]
    }
   ],
   "source": [
    "!ls /content/kaggle"
   ]
  },
  {
   "cell_type": "markdown",
   "metadata": {
    "id": "86zAAjlYo1GA"
   },
   "source": [
    "Oooh. A zip file. Let's unzip it."
   ]
  },
  {
   "cell_type": "code",
   "execution_count": 17,
   "metadata": {
    "colab": {
     "base_uri": "https://localhost:8080/"
    },
    "id": "LfQnUhn9o7Ur",
    "outputId": "48208382-d7f6-4494-83b6-3cec6f6a6c7c"
   },
   "outputs": [
    {
     "name": "stdout",
     "output_type": "stream",
     "text": [
      "Archive:  /content/kaggle/fashionmnist.zip\n",
      "  inflating: /content/kaggle/fashion-mnist_test.csv  \n",
      "  inflating: /content/kaggle/fashion-mnist_train.csv  \n",
      "  inflating: /content/kaggle/t10k-images-idx3-ubyte  \n",
      "  inflating: /content/kaggle/t10k-labels-idx1-ubyte  \n",
      "  inflating: /content/kaggle/train-images-idx3-ubyte  \n",
      "  inflating: /content/kaggle/train-labels-idx1-ubyte  \n",
      "fashion-mnist_test.csv\t fashionmnist.zip\t t10k-labels-idx1-ubyte   train-labels-idx1-ubyte\n",
      "fashion-mnist_train.csv  t10k-images-idx3-ubyte  train-images-idx3-ubyte\n"
     ]
    }
   ],
   "source": [
    "!unzip /content/kaggle/*.zip -d /content/kaggle/\n",
    "!ls /content/kaggle/"
   ]
  },
  {
   "cell_type": "markdown",
   "metadata": {
    "id": "V4XqraajtNrT"
   },
   "source": [
    "Go mad using Python"
   ]
  },
  {
   "cell_type": "markdown",
   "metadata": {
    "id": "NHt631VfJiBA"
   },
   "source": [
    "## Colab tips"
   ]
  },
  {
   "cell_type": "code",
   "execution_count": 18,
   "metadata": {
    "colab": {
     "base_uri": "https://localhost:8080/"
    },
    "id": "tdJoUe7hJhWm",
    "outputId": "b97d3f9e-393d-45fa-9aec-7a12504d820f"
   },
   "outputs": [
    {
     "name": "stdout",
     "output_type": "stream",
     "text": [
      "GPU 0: Tesla T4 (UUID: GPU-75f90a7a-8b76-4e38-5649-01e2141675d7)\n"
     ]
    }
   ],
   "source": [
    "# Check which GPU you got\n",
    "!nvidia-smi -L"
   ]
  },
  {
   "cell_type": "code",
   "execution_count": 19,
   "metadata": {
    "colab": {
     "base_uri": "https://localhost:8080/"
    },
    "id": "t-sleUVUJ3sM",
    "outputId": "d1b9c701-cbb6-41a6-87ee-32a15254bba0"
   },
   "outputs": [
    {
     "name": "stdout",
     "output_type": "stream",
     "text": [
      "Tue Sep  3 19:10:54 2024       \n",
      "+---------------------------------------------------------------------------------------+\n",
      "| NVIDIA-SMI 535.104.05             Driver Version: 535.104.05   CUDA Version: 12.2     |\n",
      "|-----------------------------------------+----------------------+----------------------+\n",
      "| GPU  Name                 Persistence-M | Bus-Id        Disp.A | Volatile Uncorr. ECC |\n",
      "| Fan  Temp   Perf          Pwr:Usage/Cap |         Memory-Usage | GPU-Util  Compute M. |\n",
      "|                                         |                      |               MIG M. |\n",
      "|=========================================+======================+======================|\n",
      "|   0  Tesla T4                       Off | 00000000:00:04.0 Off |                    0 |\n",
      "| N/A   44C    P8               9W /  70W |      0MiB / 15360MiB |      0%      Default |\n",
      "|                                         |                      |                  N/A |\n",
      "+-----------------------------------------+----------------------+----------------------+\n",
      "                                                                                         \n",
      "+---------------------------------------------------------------------------------------+\n",
      "| Processes:                                                                            |\n",
      "|  GPU   GI   CI        PID   Type   Process name                            GPU Memory |\n",
      "|        ID   ID                                                             Usage      |\n",
      "|=======================================================================================|\n",
      "|  No running processes found                                                           |\n",
      "+---------------------------------------------------------------------------------------+\n"
     ]
    }
   ],
   "source": [
    "# Check current resource allocation\n",
    "!nvidia-smi"
   ]
  },
  {
   "cell_type": "code",
   "execution_count": 20,
   "metadata": {
    "colab": {
     "base_uri": "https://localhost:8080/"
    },
    "id": "WCSZyBw0J_Rd",
    "outputId": "46054b87-ec4f-4045-a95d-175046af4faf"
   },
   "outputs": [
    {
     "name": "stdout",
     "output_type": "stream",
     "text": [
      "Model name:                           Intel(R) Xeon(R) CPU @ 2.20GHz\n"
     ]
    }
   ],
   "source": [
    "# CPU type\n",
    "!lscpu |grep 'Model name'"
   ]
  },
  {
   "cell_type": "code",
   "execution_count": 21,
   "metadata": {
    "colab": {
     "base_uri": "https://localhost:8080/"
    },
    "id": "RdTAcgS5KCGV",
    "outputId": "53ee8dee-0306-44dd-cf46-ad73b9f43d88"
   },
   "outputs": [
    {
     "name": "stdout",
     "output_type": "stream",
     "text": [
      "Architecture:             x86_64\n",
      "  CPU op-mode(s):         32-bit, 64-bit\n",
      "  Address sizes:          46 bits physical, 48 bits virtual\n",
      "  Byte Order:             Little Endian\n",
      "CPU(s):                   2\n",
      "  On-line CPU(s) list:    0,1\n",
      "Vendor ID:                GenuineIntel\n",
      "  Model name:             Intel(R) Xeon(R) CPU @ 2.20GHz\n",
      "    CPU family:           6\n",
      "    Model:                79\n",
      "    Thread(s) per core:   2\n",
      "    Core(s) per socket:   1\n",
      "    Socket(s):            1\n",
      "    Stepping:             0\n",
      "    BogoMIPS:             4399.99\n",
      "    Flags:                fpu vme de pse tsc msr pae mce cx8 apic sep mtrr pge mca cmov pat pse36 cl\n",
      "                          flush mmx fxsr sse sse2 ss ht syscall nx pdpe1gb rdtscp lm constant_tsc re\n",
      "                          p_good nopl xtopology nonstop_tsc cpuid tsc_known_freq pni pclmulqdq ssse3\n",
      "                           fma cx16 pcid sse4_1 sse4_2 x2apic movbe popcnt aes xsave avx f16c rdrand\n",
      "                           hypervisor lahf_lm abm 3dnowprefetch invpcid_single ssbd ibrs ibpb stibp \n",
      "                          fsgsbase tsc_adjust bmi1 hle avx2 smep bmi2 erms invpcid rtm rdseed adx sm\n",
      "                          ap xsaveopt arat md_clear arch_capabilities\n",
      "Virtualization features:  \n",
      "  Hypervisor vendor:      KVM\n",
      "  Virtualization type:    full\n",
      "Caches (sum of all):      \n",
      "  L1d:                    32 KiB (1 instance)\n",
      "  L1i:                    32 KiB (1 instance)\n",
      "  L2:                     256 KiB (1 instance)\n",
      "  L3:                     55 MiB (1 instance)\n",
      "NUMA:                     \n",
      "  NUMA node(s):           1\n",
      "  NUMA node0 CPU(s):      0,1\n",
      "Vulnerabilities:          \n",
      "  Gather data sampling:   Not affected\n",
      "  Itlb multihit:          Not affected\n",
      "  L1tf:                   Mitigation; PTE Inversion\n",
      "  Mds:                    Vulnerable; SMT Host state unknown\n",
      "  Meltdown:               Vulnerable\n",
      "  Mmio stale data:        Vulnerable\n",
      "  Reg file data sampling: Not affected\n",
      "  Retbleed:               Vulnerable\n",
      "  Spec rstack overflow:   Not affected\n",
      "  Spec store bypass:      Vulnerable\n",
      "  Spectre v1:             Vulnerable: __user pointer sanitization and usercopy barriers only; no swa\n",
      "                          pgs barriers\n",
      "  Spectre v2:             Vulnerable; IBPB: disabled; STIBP: disabled; PBRSB-eIBRS: Not affected; BH\n",
      "                          I: Vulnerable (Syscall hardening enabled)\n",
      "  Srbds:                  Not affected\n",
      "  Tsx async abort:        Vulnerable\n"
     ]
    }
   ],
   "source": [
    "# CPU information\n",
    "!lscpu"
   ]
  },
  {
   "cell_type": "markdown",
   "metadata": {
    "id": "EYvZP94wLU5X"
   },
   "source": [
    "## Time-consuming calculations\n",
    "- Connect to Google Drive\n",
    "- Save checkpoints\n",
    "- Test on something manageble\n",
    "- https://saturncloud.io/blog/how-to-save-a-tensorflow-checkpoint-file-from-google-colaboratory-when-using-tpu-mode/"
   ]
  }
 ],
 "metadata": {
  "accelerator": "GPU",
  "colab": {
   "provenance": []
  },
  "kernelspec": {
   "display_name": "Python 3",
   "language": "python",
   "name": "python3"
  },
  "language_info": {
   "codemirror_mode": {
    "name": "ipython",
    "version": 3
   },
   "file_extension": ".py",
   "mimetype": "text/x-python",
   "name": "python",
   "nbconvert_exporter": "python",
   "pygments_lexer": "ipython3",
   "version": "3.9.6"
  }
 },
 "nbformat": 4,
 "nbformat_minor": 4
}
